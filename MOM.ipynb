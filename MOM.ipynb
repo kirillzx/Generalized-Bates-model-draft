{
 "cells": [
  {
   "cell_type": "markdown",
   "id": "650aa79a-4b2c-4a54-8eae-629c7adffa9c",
   "metadata": {},
   "source": [
    "# Method of Moments\n",
    "### Kirill Zakharov\n",
    "2022"
   ]
  },
  {
   "cell_type": "code",
   "execution_count": 1,
   "id": "0dc8eeee-f141-4e31-bf02-a5e5f5d3a7f7",
   "metadata": {},
   "outputs": [],
   "source": [
    "import numpy as np\n",
    "import pandas as pd\n",
    "from scipy.optimize import fsolve\n"
   ]
  },
  {
   "cell_type": "code",
   "execution_count": 2,
   "id": "bc1afb98-641c-446e-9681-3e4064bf964a",
   "metadata": {},
   "outputs": [],
   "source": [
    "data = pd.read_csv('sp500_option.csv')\n",
    "data = data.iloc[:-1,:]"
   ]
  },
  {
   "cell_type": "code",
   "execution_count": 3,
   "id": "368fc475-7333-4596-a1da-b49ad8f5c649",
   "metadata": {},
   "outputs": [],
   "source": [
    "data = data[['Strike', 'Bid', 'Midpoint', 'Ask']]\n",
    "data['Strike'] = (data['Strike'].apply(lambda x: x.replace(',', ''))).astype(float)"
   ]
  },
  {
   "cell_type": "code",
   "execution_count": 4,
   "id": "822ffeab-93cf-4d7c-b12d-f980a5161e1b",
   "metadata": {},
   "outputs": [],
   "source": [
    "data['Spread'] = data['Ask'] - data['Bid']"
   ]
  },
  {
   "cell_type": "code",
   "execution_count": 5,
   "id": "e02972e5-9113-46d1-aa73-d332bd818456",
   "metadata": {},
   "outputs": [
    {
     "data": {
      "text/html": [
       "<div>\n",
       "<style scoped>\n",
       "    .dataframe tbody tr th:only-of-type {\n",
       "        vertical-align: middle;\n",
       "    }\n",
       "\n",
       "    .dataframe tbody tr th {\n",
       "        vertical-align: top;\n",
       "    }\n",
       "\n",
       "    .dataframe thead th {\n",
       "        text-align: right;\n",
       "    }\n",
       "</style>\n",
       "<table border=\"1\" class=\"dataframe\">\n",
       "  <thead>\n",
       "    <tr style=\"text-align: right;\">\n",
       "      <th></th>\n",
       "      <th>Strike</th>\n",
       "      <th>Bid</th>\n",
       "      <th>Midpoint</th>\n",
       "      <th>Ask</th>\n",
       "      <th>Spread</th>\n",
       "    </tr>\n",
       "  </thead>\n",
       "  <tbody>\n",
       "    <tr>\n",
       "      <th>0</th>\n",
       "      <td>4205.0</td>\n",
       "      <td>309.6</td>\n",
       "      <td>312.05</td>\n",
       "      <td>314.5</td>\n",
       "      <td>4.9</td>\n",
       "    </tr>\n",
       "    <tr>\n",
       "      <th>1</th>\n",
       "      <td>4210.0</td>\n",
       "      <td>300.4</td>\n",
       "      <td>305.60</td>\n",
       "      <td>310.8</td>\n",
       "      <td>10.4</td>\n",
       "    </tr>\n",
       "    <tr>\n",
       "      <th>2</th>\n",
       "      <td>4215.0</td>\n",
       "      <td>300.2</td>\n",
       "      <td>305.35</td>\n",
       "      <td>310.5</td>\n",
       "      <td>10.3</td>\n",
       "    </tr>\n",
       "    <tr>\n",
       "      <th>3</th>\n",
       "      <td>4220.0</td>\n",
       "      <td>290.2</td>\n",
       "      <td>295.75</td>\n",
       "      <td>301.3</td>\n",
       "      <td>11.1</td>\n",
       "    </tr>\n",
       "    <tr>\n",
       "      <th>4</th>\n",
       "      <td>4225.0</td>\n",
       "      <td>289.5</td>\n",
       "      <td>296.35</td>\n",
       "      <td>303.2</td>\n",
       "      <td>13.7</td>\n",
       "    </tr>\n",
       "  </tbody>\n",
       "</table>\n",
       "</div>"
      ],
      "text/plain": [
       "   Strike    Bid  Midpoint    Ask  Spread\n",
       "0  4205.0  309.6    312.05  314.5     4.9\n",
       "1  4210.0  300.4    305.60  310.8    10.4\n",
       "2  4215.0  300.2    305.35  310.5    10.3\n",
       "3  4220.0  290.2    295.75  301.3    11.1\n",
       "4  4225.0  289.5    296.35  303.2    13.7"
      ]
     },
     "execution_count": 5,
     "metadata": {},
     "output_type": "execute_result"
    }
   ],
   "source": [
    "data.head()"
   ]
  },
  {
   "cell_type": "code",
   "execution_count": 32,
   "id": "ad9cfc79-25b1-4f26-9d31-e4b0d64790d7",
   "metadata": {},
   "outputs": [],
   "source": [
    "q_values = data.Midpoint[1:].values / data.Midpoint[:-1].values"
   ]
  },
  {
   "cell_type": "code",
   "execution_count": 33,
   "id": "a840a6a1-d172-440d-9f74-cc071d369b5c",
   "metadata": {},
   "outputs": [],
   "source": [
    "def sample_moment_fun(data, j):\n",
    "    return 1/len(data) * sum(data**j)"
   ]
  },
  {
   "cell_type": "code",
   "execution_count": 34,
   "id": "bcad6ca8-6053-48dd-86d7-168838ec9fcc",
   "metadata": {},
   "outputs": [],
   "source": [
    "sample_m1 = sample_moment_fun(q_values, 1)\n",
    "sample_m2 = sample_moment_fun(q_values, 2)\n",
    "sample_m4 = sample_moment_fun(q_values, 4)\n",
    "sample_m5 = sample_moment_fun(q_values, 5)"
   ]
  },
  {
   "cell_type": "code",
   "execution_count": 67,
   "id": "5627c367-40da-46fa-abf8-ce0de00fede0",
   "metadata": {},
   "outputs": [],
   "source": [
    "def equations_system(variables):\n",
    "    r, θ, k, sigma = variables\n",
    "    \n",
    "    eq1 = 1 + r - sample_m1\n",
    "    eq2 = (1 + r)**2 + θ - sample_m2\n",
    "    eq3 = 1/(k*(k - 2)) * (k**2 * r**4 + 4 * k**2 * r**3 + 6* k**2 * r**2 * θ - 2*k * r**4 + 6*k**2 * r**2 + 12*k**2 * r*θ + \n",
    "                           3*k**2 * θ**2 - 8*k* r**3 - 12*k * r**2 * θ + 4* k**2 * r + 6*k**2 * θ - 12*k * r**2 - 24*k*r*θ - \n",
    "                           6*k* θ**2 - 3*sigma**2 * θ + k**2 - 8*k*r - 12 *k*θ - 2*k)\n",
    "    eq4 = 1/(k*(k - 2)) * (k**2 * r**5 + 5*k**2 * r**4 + 10*k**2 * r**3 * θ - 2*k* r**5 + 10*k**2 * r**3 + 30*k**2 * r**2 * θ\n",
    "                    + 15*k**2 * r * θ**2 - 10* k*r**4 - 20*k*r**3 * θ + 10*k**2 * r**2 + 30* k**2 * r * θ + 15* k**2 * θ**2 - \n",
    "                    20* k* r**3 - 60*k*r**2 * θ - 30*k*r*θ**2 - 15*r*sigma**2 * θ + 5*k**2 * r + 10*k**2 * θ - 20*k*r**2 - 60*k*r*θ \n",
    "                    - 30*k*θ**2 - 15*sigma**2 * θ + k**2 - 10*k*r - 20*k*θ - 2*k)\n",
    "    \n",
    "    return [eq1, eq2, eq3, eq4]\n",
    "    "
   ]
  },
  {
   "cell_type": "code",
   "execution_count": 71,
   "id": "511a7944-1ec2-4de3-9209-3f2ef34e9339",
   "metadata": {},
   "outputs": [],
   "source": [
    "parameters_estimation = fsolve(equations_system, (1, 1, 1, 1))"
   ]
  },
  {
   "cell_type": "code",
   "execution_count": 72,
   "id": "fa0ecc47-f0f3-4913-b503-8cfd532e3b01",
   "metadata": {},
   "outputs": [
    {
     "data": {
      "text/plain": [
       "array([ 1.16875231e-02, -1.49508211e-01,  1.12202841e+08, -1.80458774e+06])"
      ]
     },
     "execution_count": 72,
     "metadata": {},
     "output_type": "execute_result"
    }
   ],
   "source": [
    "parameters_estimation"
   ]
  },
  {
   "cell_type": "code",
   "execution_count": null,
   "id": "c343a404-5f26-44f4-a2e9-d87a812855cb",
   "metadata": {},
   "outputs": [],
   "source": []
  }
 ],
 "metadata": {
  "kernelspec": {
   "display_name": "Python 3",
   "language": "python",
   "name": "python3"
  },
  "language_info": {
   "codemirror_mode": {
    "name": "ipython",
    "version": 3
   },
   "file_extension": ".py",
   "mimetype": "text/x-python",
   "name": "python",
   "nbconvert_exporter": "python",
   "pygments_lexer": "ipython3",
   "version": "3.8.8"
  }
 },
 "nbformat": 4,
 "nbformat_minor": 5
}
