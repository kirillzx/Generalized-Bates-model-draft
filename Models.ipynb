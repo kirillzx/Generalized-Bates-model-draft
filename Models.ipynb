{
 "cells": [
  {
   "cell_type": "markdown",
   "id": "afcabfab-538a-4339-a122-5120af2915e2",
   "metadata": {},
   "source": [
    "# <center>Option Pricing Models</center>\n",
    "### Kirill Zakharov\n",
    "2022"
   ]
  },
  {
   "cell_type": "code",
   "execution_count": 264,
   "id": "c6d39b65-842b-4eb1-9a9f-3ced87cc62b8",
   "metadata": {},
   "outputs": [],
   "source": [
    "import numpy as np\n",
    "import pandas as pd\n",
    "import matplotlib.pyplot as plt\n",
    "import seaborn as sns\n",
    "import scipy.stats as stats\n",
    "from scipy.integrate import quad\n",
    "from scipy.fft import fft, ifft\n",
    "from scipy.interpolate import interp1d\n",
    "from functools import partial\n",
    "from scipy.optimize import minimize\n",
    "\n",
    "%matplotlib inline\n",
    "\n",
    "plt.style.use('ggplot')"
   ]
  },
  {
   "cell_type": "code",
   "execution_count": 2,
   "id": "516f739a-f098-474e-9980-34360ac3973c",
   "metadata": {},
   "outputs": [],
   "source": [
    "rvs = stats.norm.rvs(loc=0, scale=1, size=10000)"
   ]
  },
  {
   "cell_type": "code",
   "execution_count": 3,
   "id": "bb22788c-1e43-4dc8-882f-8c92f03ca4fd",
   "metadata": {},
   "outputs": [
    {
     "data": {
      "image/png": "[encoded data removed]",
      "text/plain": [
       "<Figure size 432x288 with 1 Axes>"
      ]
     },
     "metadata": {},
     "output_type": "display_data"
    }
   ],
   "source": [
    "sns.histplot(rvs, color='black', bins=20)\n",
    "\n",
    "plt.show()"
   ]
  },
  {
   "cell_type": "markdown",
   "id": "e408ad7c-c7a3-45f8-866b-d6d90f7b2bc0",
   "metadata": {},
   "source": [
    "## Main Class"
   ]
  },
  {
   "cell_type": "code",
   "execution_count": 174,
   "id": "1fb2b22d-9327-4f05-b6d1-d2de768e3278",
   "metadata": {},
   "outputs": [],
   "source": [
    "class Stochastic_Models():\n",
    "    \n",
    "    def __init__(self, dividends=False):\n",
    "        self.dividends = dividends\n",
    "        \n",
    "    def geometric_BM(self, t, initial, mu, sigma, dt):\n",
    "        \n",
    "        s = initial * np.exp((mu - (sigma**2)/2) * t + sigma * np.sqrt(dt) * stats.norm.rvs(loc=0, scale=1))\n",
    "        \n",
    "        return s\n",
    "        \n",
    "    def black_scholes(self, r, mu, sigma, strike, option_type='call', dividends=False, maturity=10, t=1, s0=0):\n",
    "        \n",
    "        if option_type == 'call':\n",
    "            s = self.geometric_BM(t, s0, mu, sigma, 1)\n",
    "            \n",
    "            d1 = (np.log(s/strike) + (r + (sigma**2)/2) * (maturity - t)) / (sigma * np.sqrt(maturity - t))\n",
    "            d2 = d1 - sigma * np.sqrt(maturity - t)\n",
    "            \n",
    "            c = s * stats.norm.cdf(d1, loc=0, scale=1) - strike * np.exp(-r * (maturity - t)) * stats.norm.cdf(d2, loc=0, scale=1)\n",
    "        \n",
    "        elif option_type == 'put':\n",
    "            s = self.geometric_BM(t, initial, mu, sigma, 1)\n",
    "            \n",
    "            d1 = (np.log(s/strike) + (r + (sigma**2)/2) * (maturity - t)) / (sigma * np.sqrt(maturity - t))\n",
    "            d2 = d1 - sigma * np.sqrt(maturity - t)\n",
    "            \n",
    "            c = strike * np.exp(-r * (maturity - t)) * stats.norm.cdf(-d2, loc=0, scale=1) - s * stats.norm.cdf(-d1, loc=0, scale=1)\n",
    "            \n",
    "        else:\n",
    "            print('Incorrect type, available: call and put')\n",
    "        \n",
    "        return s, c\n",
    "    \n",
    "    def black_scholes_sim(self, r, mu, sigma, strike, option_type='call', dividends=False, maturity=10, s0=0):\n",
    "        array = []\n",
    "        \n",
    "        for t in range(maturity):\n",
    "            array.append(self.black_scholes(r, mu, sigma, strike, option_type, dividends, maturity, t, s0))\n",
    "            \n",
    "        return array    \n",
    "    \n",
    "    def heston(self, mu, theta, k, xi, rho, maturity, dt, v0, s0):\n",
    "        v_array = np.zeros(maturity)\n",
    "        s_array = np.zeros(maturity)\n",
    "        \n",
    "        v_array[0] = v0\n",
    "        s_array[0] = s0\n",
    "        \n",
    "        for t in range(maturity - 1):\n",
    "            dwv = stats.norm.rvs(loc=0, scale=1)\n",
    "            dws = rho * dwv + np.sqrt(1 - rho**2) * stats.norm.rvs(loc=0, scale=1)\n",
    "            \n",
    "            v_array[t+1] = v_array[t] + k * (theta - v_array[t]) * dt + xi * np.sqrt(v_array[t]) * np.sqrt(dt) * dwv\n",
    "            s_array[t+1] = s_array[t] + mu * s_array[t] * dt + np.sqrt(v_array[t+1]) * s_array[t] * np.sqrt(dt) * dws\n",
    "            \n",
    "        return s_array, v_array\n",
    "    \n",
    "#     def heston_option(self, muH, theta, k, xi, rho, v0, r, mu, sigma, strike, option_type='call', dividends=False, maturity=10, s0=0):\n",
    "#         s, v = self.heston(muH, theta, k, xi, rho, maturity, dt, v0, s0)\n",
    "#         c_array = []\n",
    "        \n",
    "#         for t in range(maturity):\n",
    "            \n",
    "#             d1 = (np.log(max(s[t]/strike, 1)) + (r + (sigma**2)/2) * (maturity - t)) / (sigma * np.sqrt(maturity - t))\n",
    "#             d2 = d1 - sigma * np.sqrt(maturity - t)\n",
    "            \n",
    "#             c = s[t] * stats.norm.cdf(d1, loc=0, scale=1) - strike * np.exp(-r * (maturity - t)) * stats.norm.cdf(d2, loc=0, scale=1)\n",
    "#             c_array.append(c)\n",
    "            \n",
    "#         return s, c_array   \n",
    "\n",
    "    def heston_option(self, muH, theta, k, xi, rho, v0, r, mu, sigma, strike, option_type='call', dividends=False, maturity=10, s0=0):\n",
    "        s, v = self.heston(muH, theta, k, xi, rho, maturity, dt, v0, s0)\n",
    "        c_array = []\n",
    "        \n",
    "        def d_fun(tau, u, indx):\n",
    "                if indx == 1:\n",
    "                    d = np.sqrt((rho * sigma * u * 1j - b1)**2 - sigma**2 * (2 * u1 * u * 1j - u**2))\n",
    "                    \n",
    "                    g = (b1 - rho * sigma * u * 1j + d)/(b1 - rho * sigma * u * 1j - d)\n",
    "                    \n",
    "                    res = (b1 - rho * sigma * u * 1j + d)/(sigma**2) * ((1 - g * np.exp(d*tau))/(1 - g))\n",
    "                    return res\n",
    "                \n",
    "                elif indx == 2:\n",
    "                    d = np.sqrt((rho * sigma * u * 1j - b2)**2 - sigma**2 * (2 * u2 * u * 1j - u**2))\n",
    "                    \n",
    "                    g = (b2 - rho * sigma * u * 1j + d)/(b2 - rho * sigma * u * 1j - d)\n",
    "                    \n",
    "                    res = (b2 - rho * sigma * u * 1j + d)/(sigma**2) * ((1 - g * np.exp(d*tau))/(1 - g))\n",
    "                    return res\n",
    "                \n",
    "                else:\n",
    "                    print('Wrong Index Number')\n",
    "                    \n",
    "        def c_fun(tau, u, indx):\n",
    "                if indx == 1:\n",
    "                    d = np.sqrt((rho * sigma * u * 1j - b1)**2 - sigma**2 * (2 * u1 * u * 1j - u**2))\n",
    "                    \n",
    "                    g = (b1 - rho * sigma * u * 1j + d)/(b1 - rho * sigma * u * 1j - d)\n",
    "                    \n",
    "                    res = r * 1j * u * tau + 1/sigma**2 * ((b1 - rho * sigma * u * 1j + d)*tau - 2*np.log((1 - g * np.exp(d*tau))/(1 - g)))\n",
    "                    return res\n",
    "                \n",
    "                elif indx == 2:\n",
    "                    d = np.sqrt((rho * sigma * u * 1j - b2)**2 - sigma**2 * (2 * u2 * u * 1j - u**2))\n",
    "                    \n",
    "                    g = (b2 - rho * sigma * u * 1j + d)/(b2 - rho * sigma * u * 1j - d)\n",
    "                    \n",
    "                    res = r * 1j * u * tau + 1/sigma**2 * ((b2 - rho * sigma * u * 1j + d)*tau - 2*np.log((1 - g * np.exp(d*tau))/(1 - g)))\n",
    "                    return res\n",
    "                \n",
    "                else:\n",
    "                    print('Wrong Index Number')\n",
    "        \n",
    "        for t in range(maturity):\n",
    "            tau = maturity - t\n",
    "            x = np.log(max(s[t], 1))\n",
    "            \n",
    "            u1 = 1/2\n",
    "            u2 = -1/2\n",
    "            \n",
    "            lambda1 = 0.5\n",
    "            \n",
    "            b1 = k + lambda1 - rho * sigma\n",
    "            b2 = k + lambda1\n",
    "            \n",
    "            f1 = lambda u: np.real((np.exp(-u * np.log(strike)) * np.exp(c_fun(tau, u, 1) + d_fun(tau, u, 1) * xi + 1j * u * x))/(1j*u))\n",
    "            f2 = lambda u: np.real((np.exp(-u * np.log(strike)) * np.exp(c_fun(tau, u, 2) + d_fun(tau, u, 2) * xi + 1j * u * x))/(1j*u))\n",
    "            \n",
    "            p1 = 1/2 + 1/np.pi * quad(f1, 0, maturity)[0] #delta\n",
    "            p2 = 1/2 + 1/np.pi * quad(f2, 0, maturity)[0] #probability at-the-money\n",
    "            \n",
    "            c = np.exp(x) * p1 - np.exp(-r * tau) * strike * p2\n",
    "            \n",
    "            c_array.append(c)\n",
    "            \n",
    "        return s, c_array, f1, p1\n",
    "    \n",
    "    def lewis_approximation(self, muH, theta, k, xi, rho, v0, r, mu, sigma, strike, option_type='call', dividends=False, maturity=10, s0=0):\n",
    "        s, v = self.heston(muH, theta, k, xi, rho, maturity, dt, v0, s0)\n",
    "        c_array = []\n",
    "        \n",
    "        \n",
    "        for t in range(maturity):\n",
    "            tau = maturity - t\n",
    "            \n",
    "            x = np.log(s[t]/strike) + r * tau\n",
    "            \n",
    "            def h_fun(k, v, tau):\n",
    "                \n",
    "                b = 2/sigma**2 * (1j * k * rho * sigma + k)\n",
    "            \n",
    "                l = np.sqrt(b**2 + (4*(k**2 - 1j * k))/sigma**2)\n",
    "\n",
    "                q = sigma**2 * tau/2\n",
    "\n",
    "                h = (b - l)/(b + l)\n",
    "\n",
    "                g = (b - l)/2\n",
    "                return np.exp(2 * k * theta/sigma**2 * (q * g - np.log((1 - h * np.exp(-l * q))/(1 - h)) + v * g * (1 - np.exp(-l * q))/(1 - h * np.exp(-l*q))))\n",
    "            \n",
    "            fun = lambda k: np.real(np.exp(-k * x * 1j) * h_fun(k, v[t], tau) / (k**2 - 1j * k))\n",
    "            \n",
    "            c = s[t] - strike * np.exp(-r * tau) * 1/np.pi * quad(fun, -np.inf, np.inf)[0]\n",
    "            \n",
    "            c_array.append(c)\n",
    "            \n",
    "            return s, c_array\n",
    "    \n",
    "    def simulation(self, model, maturity):\n",
    "        array = []\n",
    "        \n",
    "        for t in range(maturity):\n",
    "            array.append(model)\n",
    "            \n",
    "        return array\n",
    "    \n",
    "    def path_plot(self, values):\n",
    "        \n",
    "        plt.subplots(figsize=(10, 5), dpi=120)\n",
    "        plt.plot(values[0], label='Underlying Asset')\n",
    "        plt.plot(values[1], label='Option Price')\n",
    "        \n",
    "        plt.title('Path', fontsize=16)\n",
    "        plt.legend()\n",
    "        plt.show()"
   ]
  },
  {
   "cell_type": "code",
   "execution_count": 175,
   "id": "1432a25c-d82a-438b-9b39-342c7645d937",
   "metadata": {},
   "outputs": [],
   "source": [
    "model = Stochastic_Models()"
   ]
  },
  {
   "cell_type": "markdown",
   "id": "4d403506-04af-4c60-b953-11b1afcb261f",
   "metadata": {},
   "source": [
    "### Initial Parameters"
   ]
  },
  {
   "cell_type": "code",
   "execution_count": 152,
   "id": "da359988-4aa2-472a-8f44-8b037a5f1f2e",
   "metadata": {},
   "outputs": [],
   "source": [
    "mu = 0.1\n",
    "sigma = 0.2\n",
    "dt = 1\n",
    "maturity = 14\n",
    "r = 0.08\n",
    "\n",
    "strike = 150\n",
    "initial = 100\n",
    "option_type = 'call'\n",
    "dividends = False"
   ]
  },
  {
   "cell_type": "markdown",
   "id": "a6b1d136-a59a-4d2f-b0f0-38968e8543c5",
   "metadata": {},
   "source": [
    "### Simulation"
   ]
  },
  {
   "cell_type": "code",
   "execution_count": 153,
   "id": "c54c7a74-1560-4e75-9358-d97322922d60",
   "metadata": {},
   "outputs": [],
   "source": [
    "array= []\n",
    "for t in range(10):\n",
    "    array.append(model.black_scholes(r, mu, sigma, strike, option_type, dividends, maturity, t, initial))\n",
    "    \n",
    "array = np.array(array).T"
   ]
  },
  {
   "cell_type": "code",
   "execution_count": 154,
   "id": "d96a444c-0c21-4521-aebe-c21fb782dded",
   "metadata": {},
   "outputs": [],
   "source": [
    "blackScholesSim = model.black_scholes_sim(r, mu, sigma, strike, option_type, dividends, maturity, initial)\n",
    "blackScholesSim = np.array(blackScholesSim).T"
   ]
  },
  {
   "cell_type": "markdown",
   "id": "49b94961-0e71-4bb7-a456-943cf06ce5f3",
   "metadata": {},
   "source": [
    "### Visualisation"
   ]
  },
  {
   "cell_type": "code",
   "execution_count": 155,
   "id": "eb5b83a5-b509-40ad-9fb9-3af83fb50bc4",
   "metadata": {},
   "outputs": [
    {
     "data": {
      "image/png": "[encoded data removed]",
      "text/plain": [
       "<Figure size 1200x600 with 1 Axes>"
      ]
     },
     "metadata": {},
     "output_type": "display_data"
    }
   ],
   "source": [
    "model.path_plot(blackScholesSim)"
   ]
  },
  {
   "cell_type": "code",
   "execution_count": 156,
   "id": "8ce1fc70-b29a-49b8-a834-bed76c7a26fa",
   "metadata": {},
   "outputs": [],
   "source": [
    "mu = 0.5\n",
    "dt = 1\n",
    "maturity = 14\n",
    "k = 0.6\n",
    "theta = 2\n",
    "xi = 0.3\n",
    "v0 = 0.01\n",
    "s0 = 100\n",
    "rho = 0.5"
   ]
  },
  {
   "cell_type": "code",
   "execution_count": 157,
   "id": "42fc9fc2-c1d3-4a1d-b443-7413d367386a",
   "metadata": {},
   "outputs": [],
   "source": [
    "hestonSim = model.heston(mu, theta, k, xi, rho, maturity, dt, v0, s0)"
   ]
  },
  {
   "cell_type": "code",
   "execution_count": 158,
   "id": "d20ec93e-40ea-4f93-8057-ca141e0dc8ff",
   "metadata": {},
   "outputs": [
    {
     "data": {
      "image/png": "[encoded data removed]",
      "text/plain": [
       "<Figure size 1200x600 with 1 Axes>"
      ]
     },
     "metadata": {},
     "output_type": "display_data"
    }
   ],
   "source": [
    "model.path_plot(hestonSim)"
   ]
  },
  {
   "cell_type": "code",
   "execution_count": 159,
   "id": "21d2471d-f579-4617-a4e2-3d5a083321f5",
   "metadata": {},
   "outputs": [],
   "source": [
    "mu = 0.1\n",
    "sigma = 0.2\n",
    "r = 0.04\n",
    "\n",
    "strike = 150\n",
    "s0 = 100\n",
    "option_type = 'call'\n",
    "dividends = False\n",
    "\n",
    "muH = 0.5\n",
    "dt = 1\n",
    "maturity = 10\n",
    "k = 0.2\n",
    "theta = 2\n",
    "xi = 0.5\n",
    "v0 = 0.01\n",
    "rho = 0.5"
   ]
  },
  {
   "cell_type": "code",
   "execution_count": 160,
   "id": "cc3468fb-b4b6-400d-a7e1-09be2940e918",
   "metadata": {},
   "outputs": [
    {
     "name": "stderr",
     "output_type": "stream",
     "text": [
      "<ipython-input-150-4713417ef1f4>:129: RuntimeWarning: overflow encountered in exp\n",
      "  f1 = lambda u: np.real((np.exp(-u * np.log(strike)) * np.exp(c_fun(tau, u, 1) + d_fun(tau, u, 1) * xi + 1j * u * x))/(1j*u))\n",
      "<ipython-input-150-4713417ef1f4>:129: RuntimeWarning: invalid value encountered in multiply\n",
      "  f1 = lambda u: np.real((np.exp(-u * np.log(strike)) * np.exp(c_fun(tau, u, 1) + d_fun(tau, u, 1) * xi + 1j * u * x))/(1j*u))\n",
      "<ipython-input-150-4713417ef1f4>:132: IntegrationWarning: The occurrence of roundoff error is detected, which prevents \n",
      "  the requested tolerance from being achieved.  The error may be \n",
      "  underestimated.\n",
      "  p1 = 1/2 + 1/np.pi * quad(f1, 0, maturity)[0] #delta\n",
      "<ipython-input-150-4713417ef1f4>:130: RuntimeWarning: overflow encountered in exp\n",
      "  f2 = lambda u: np.real((np.exp(-u * np.log(strike)) * np.exp(c_fun(tau, u, 2) + d_fun(tau, u, 2) * xi + 1j * u * x))/(1j*u))\n",
      "<ipython-input-150-4713417ef1f4>:130: RuntimeWarning: invalid value encountered in multiply\n",
      "  f2 = lambda u: np.real((np.exp(-u * np.log(strike)) * np.exp(c_fun(tau, u, 2) + d_fun(tau, u, 2) * xi + 1j * u * x))/(1j*u))\n",
      "<ipython-input-150-4713417ef1f4>:133: IntegrationWarning: The maximum number of subdivisions (50) has been achieved.\n",
      "  If increasing the limit yields no improvement it is advised to analyze \n",
      "  the integrand in order to determine the difficulties.  If the position of a \n",
      "  local difficulty can be determined (singularity, discontinuity) one will \n",
      "  probably gain from splitting up the interval and calling the integrator \n",
      "  on the subranges.  Perhaps a special-purpose integrator should be used.\n",
      "  p2 = 1/2 + 1/np.pi * quad(f2, 0, maturity)[0] #probability at-the-money\n",
      "<ipython-input-150-4713417ef1f4>:132: IntegrationWarning: The maximum number of subdivisions (50) has been achieved.\n",
      "  If increasing the limit yields no improvement it is advised to analyze \n",
      "  the integrand in order to determine the difficulties.  If the position of a \n",
      "  local difficulty can be determined (singularity, discontinuity) one will \n",
      "  probably gain from splitting up the interval and calling the integrator \n",
      "  on the subranges.  Perhaps a special-purpose integrator should be used.\n",
      "  p1 = 1/2 + 1/np.pi * quad(f1, 0, maturity)[0] #delta\n",
      "<ipython-input-150-4713417ef1f4>:133: IntegrationWarning: The occurrence of roundoff error is detected, which prevents \n",
      "  the requested tolerance from being achieved.  The error may be \n",
      "  underestimated.\n",
      "  p2 = 1/2 + 1/np.pi * quad(f2, 0, maturity)[0] #probability at-the-money\n"
     ]
    }
   ],
   "source": [
    "hestonSim = model.heston_option(muH, theta, k, xi, rho, v0, r, mu, sigma, strike, option_type, dividends, maturity, s0)"
   ]
  },
  {
   "cell_type": "code",
   "execution_count": 161,
   "id": "4fd17da6-cf53-4192-afe2-e01fced279e2",
   "metadata": {},
   "outputs": [
    {
     "data": {
      "text/plain": [
       "(array([100.        ,  23.02143939,  36.17056631,  68.17481043,\n",
       "         62.70980254,  56.7924704 ,  35.06746471,  29.77498209,\n",
       "        128.57527328, 278.04831131]),\n",
       " [nan,\n",
       "  nan,\n",
       "  nan,\n",
       "  nan,\n",
       "  nan,\n",
       "  2.9233300369847736e+253,\n",
       "  5.801383123581411e+126,\n",
       "  4.709424400022066e+85,\n",
       "  7.96047446075779e+98,\n",
       "  2.9273535989627584e+16],\n",
       " <function __main__.Stochastic_Models.heston_option.<locals>.<lambda>(u)>,\n",
       " -121367407051.81944)"
      ]
     },
     "execution_count": 161,
     "metadata": {},
     "output_type": "execute_result"
    }
   ],
   "source": [
    "hestonSim"
   ]
  },
  {
   "cell_type": "code",
   "execution_count": 162,
   "id": "67e734a6-2ecb-4739-8664-4284c1232db9",
   "metadata": {},
   "outputs": [
    {
     "data": {
      "image/png": "[encoded data removed]",
      "text/plain": [
       "<Figure size 1200x600 with 1 Axes>"
      ]
     },
     "metadata": {},
     "output_type": "display_data"
    }
   ],
   "source": [
    "model.path_plot(hestonSim)"
   ]
  },
  {
   "cell_type": "code",
   "execution_count": 163,
   "id": "253e37c0-8c1e-4e5e-9524-6e81e8d94952",
   "metadata": {},
   "outputs": [
    {
     "data": {
      "text/plain": [
       "True"
      ]
     },
     "execution_count": 163,
     "metadata": {},
     "output_type": "execute_result"
    }
   ],
   "source": [
    "2*k*theta >= xi**2 # if True then vt  is strictly positive"
   ]
  },
  {
   "cell_type": "code",
   "execution_count": 176,
   "id": "0bf3cff2-a3aa-41a5-908e-23d6a605fecb",
   "metadata": {},
   "outputs": [
    {
     "name": "stderr",
     "output_type": "stream",
     "text": [
      "<ipython-input-174-bb6fef3a453f>:162: RuntimeWarning: overflow encountered in exp\n",
      "  return np.exp(2 * k * theta/sigma**2 * (q * g - np.log((1 - h * np.exp(-l * q))/(1 - h)) + v * g * (1 - np.exp(-l * q))/(1 - h * np.exp(-l*q))))\n",
      "<ipython-input-174-bb6fef3a453f>:164: RuntimeWarning: invalid value encountered in cdouble_scalars\n",
      "  fun = lambda k: np.real(np.exp(-k * x * 1j) * h_fun(k, v[t], tau) / (k**2 - 1j * k))\n",
      "<ipython-input-174-bb6fef3a453f>:166: IntegrationWarning: The occurrence of roundoff error is detected, which prevents \n",
      "  the requested tolerance from being achieved.  The error may be \n",
      "  underestimated.\n",
      "  c = s[t] - strike * np.exp(-r * tau) * 1/np.pi * quad(fun, -np.inf, np.inf)[0]\n"
     ]
    },
    {
     "data": {
      "text/plain": [
       "(array([  100.        ,   193.29635103,   431.60070349,  2234.97074205,\n",
       "         1106.10853102,  3053.09969753, 12285.35488578,  9399.12799113,\n",
       "        28208.82653136, 54426.74134826]),\n",
       " [nan])"
      ]
     },
     "execution_count": 176,
     "metadata": {},
     "output_type": "execute_result"
    }
   ],
   "source": [
    "model.lewis_approximation(muH, theta, k, xi, rho, v0, r, mu, sigma, strike, option_type, dividends, maturity, s0)"
   ]
  },
  {
   "cell_type": "code",
   "execution_count": null,
   "id": "44a68885-a588-442d-987e-58c22fb751bf",
   "metadata": {},
   "outputs": [],
   "source": []
  },
  {
   "cell_type": "code",
   "execution_count": 179,
   "id": "abe6fa70-9f1e-4b3b-9153-98a61a8b1621",
   "metadata": {},
   "outputs": [
    {
     "data": {
      "text/plain": [
       "array([ 5.-0.j, -1.-0.j])"
      ]
     },
     "execution_count": 179,
     "metadata": {},
     "output_type": "execute_result"
    }
   ],
   "source": [
    "fft([2,3])"
   ]
  },
  {
   "cell_type": "code",
   "execution_count": 245,
   "id": "2b708332-d1e5-49c6-aabb-fa5a832fb5f7",
   "metadata": {},
   "outputs": [],
   "source": [
    "def fft_cf(K, S0, r, T, cf): # interp support cubic \n",
    "    \"\"\" \n",
    "    K = vector of strike\n",
    "    S0 = spot price scalar\n",
    "    cf = characteristic function\n",
    "    \"\"\"\n",
    "    N=2**15                         # FFT more efficient for N power of 2\n",
    "    B = 500                         # integration limit \n",
    "    \n",
    "    dx = B/N\n",
    "    x = np.arange(N) * dx\n",
    "\n",
    "    weight = 3 + (-1)**(np.arange(N)+1) # Simpson weights\n",
    "    weight[0] = 1; weight[N-1]=1\n",
    "\n",
    "    dk = 2*np.pi/B\n",
    "    b = N * dk /2\n",
    "    ks = -b + dk * np.arange(N)\n",
    "\n",
    "    integrand = np.exp(- 1j * b * np.arange(N)*dx) * cf(x - 0.5j) * 1/(x**2 + 0.25) * weight * dx/3\n",
    "    integral_value = np.real( ifft(integrand)*N )\n",
    "    spline_cub = interp1d(ks, integral_value, kind=\"cubic\") # cubic will fit better than linear\n",
    "    prices = S0 - np.sqrt(S0 * K) * np.exp(-r*T)/np.pi * spline_cub( np.log(S0/K) )\n",
    "    \n",
    "    return prices"
   ]
  },
  {
   "cell_type": "code",
   "execution_count": 246,
   "id": "012c8262-936b-4532-9c2d-9b82e402f65c",
   "metadata": {},
   "outputs": [],
   "source": [
    "def cf_normal(u, mu=0, sigma=1):\n",
    "            return np.exp( 1j * u * mu - 0.5 * u**2 * sigma**2 )"
   ]
  },
  {
   "cell_type": "code",
   "execution_count": 247,
   "id": "35217bec-9959-41b5-baa6-96d911a59ad0",
   "metadata": {},
   "outputs": [
    {
     "data": {
      "text/plain": [
       "array([8748.28839525, 7271.92287224])"
      ]
     },
     "execution_count": 247,
     "metadata": {},
     "output_type": "execute_result"
    }
   ],
   "source": [
    "fft_cf(np.array([26400, 30000]), 25500, 0.0226, 14, lambda u: cf_normal(u, (r - 0.5 * sigma**2) * maturity, sigma * np.sqrt(maturity) ))"
   ]
  },
  {
   "cell_type": "code",
   "execution_count": 325,
   "id": "098ec9ee-03f7-459b-a213-5fdc8fca6b3e",
   "metadata": {},
   "outputs": [],
   "source": [
    "def cf_Heston_good(u, t, v0, mu, kappa, theta, sigma, rho):\n",
    "            xi = kappa - sigma*rho*u * 1j\n",
    "            d = np.sqrt( xi**2 + sigma**2 * (u**2 + 1j * u) )\n",
    "            g1 = (xi+d)/(xi-d)\n",
    "            g2 = 1/(g1 + 1e-15)\n",
    "            cf = np.exp( 1j * u*mu*t + (kappa*theta)/(sigma**2) * ( (xi-d)*t - 2*np.log( (1-g2*np.exp(-d*t))/(1-g2) ))\\\n",
    "                      + (v0/sigma**2)*(xi-d) * (1-np.exp(-d*t))/(1-g2*np.exp(-d*t)) )\n",
    "            return cf"
   ]
  },
  {
   "cell_type": "code",
   "execution_count": 249,
   "id": "aac92beb-6ae0-4665-b0ab-96e76226433f",
   "metadata": {},
   "outputs": [
    {
     "data": {
      "text/plain": [
       "array([23108.24224688, 22945.83447481])"
      ]
     },
     "execution_count": 249,
     "metadata": {},
     "output_type": "execute_result"
    }
   ],
   "source": [
    "fft_cf(np.array([26400, 30000]), 25500, 0.0226, 14, lambda u: cf_Heston_good(u, maturity, v0, mu, k, theta, sigma, rho))"
   ]
  },
  {
   "cell_type": "code",
   "execution_count": 299,
   "id": "35c2bcb5-1f64-4aa0-bce8-bd0453e083d2",
   "metadata": {},
   "outputs": [],
   "source": [
    "data = pd.read_csv('sp500_option.csv')\n",
    "data = data.iloc[:-1,:]"
   ]
  },
  {
   "cell_type": "code",
   "execution_count": 300,
   "id": "31e1ee46-9d09-48d0-acaa-54b2e0f9752e",
   "metadata": {},
   "outputs": [],
   "source": [
    "data = data[['Strike', 'Bid', 'Midpoint', 'Ask']]\n",
    "data['Strike'] = (data['Strike'].apply(lambda x: x.replace(',', ''))).astype(float)"
   ]
  },
  {
   "cell_type": "code",
   "execution_count": 301,
   "id": "fcd97e88-e568-4a60-a54f-e9f51616bbe4",
   "metadata": {},
   "outputs": [
    {
     "data": {
      "text/html": [
       "<div>\n",
       "<style scoped>\n",
       "    .dataframe tbody tr th:only-of-type {\n",
       "        vertical-align: middle;\n",
       "    }\n",
       "\n",
       "    .dataframe tbody tr th {\n",
       "        vertical-align: top;\n",
       "    }\n",
       "\n",
       "    .dataframe thead th {\n",
       "        text-align: right;\n",
       "    }\n",
       "</style>\n",
       "<table border=\"1\" class=\"dataframe\">\n",
       "  <thead>\n",
       "    <tr style=\"text-align: right;\">\n",
       "      <th></th>\n",
       "      <th>Strike</th>\n",
       "      <th>Bid</th>\n",
       "      <th>Midpoint</th>\n",
       "      <th>Ask</th>\n",
       "    </tr>\n",
       "  </thead>\n",
       "  <tbody>\n",
       "    <tr>\n",
       "      <th>0</th>\n",
       "      <td>4205.0</td>\n",
       "      <td>309.6</td>\n",
       "      <td>312.05</td>\n",
       "      <td>314.5</td>\n",
       "    </tr>\n",
       "    <tr>\n",
       "      <th>1</th>\n",
       "      <td>4210.0</td>\n",
       "      <td>300.4</td>\n",
       "      <td>305.60</td>\n",
       "      <td>310.8</td>\n",
       "    </tr>\n",
       "    <tr>\n",
       "      <th>2</th>\n",
       "      <td>4215.0</td>\n",
       "      <td>300.2</td>\n",
       "      <td>305.35</td>\n",
       "      <td>310.5</td>\n",
       "    </tr>\n",
       "    <tr>\n",
       "      <th>3</th>\n",
       "      <td>4220.0</td>\n",
       "      <td>290.2</td>\n",
       "      <td>295.75</td>\n",
       "      <td>301.3</td>\n",
       "    </tr>\n",
       "    <tr>\n",
       "      <th>4</th>\n",
       "      <td>4225.0</td>\n",
       "      <td>289.5</td>\n",
       "      <td>296.35</td>\n",
       "      <td>303.2</td>\n",
       "    </tr>\n",
       "    <tr>\n",
       "      <th>...</th>\n",
       "      <td>...</td>\n",
       "      <td>...</td>\n",
       "      <td>...</td>\n",
       "      <td>...</td>\n",
       "    </tr>\n",
       "    <tr>\n",
       "      <th>195</th>\n",
       "      <td>4680.0</td>\n",
       "      <td>240.4</td>\n",
       "      <td>242.90</td>\n",
       "      <td>245.4</td>\n",
       "    </tr>\n",
       "    <tr>\n",
       "      <th>196</th>\n",
       "      <td>4685.0</td>\n",
       "      <td>239.8</td>\n",
       "      <td>247.90</td>\n",
       "      <td>256.0</td>\n",
       "    </tr>\n",
       "    <tr>\n",
       "      <th>197</th>\n",
       "      <td>4690.0</td>\n",
       "      <td>250.0</td>\n",
       "      <td>252.55</td>\n",
       "      <td>255.1</td>\n",
       "    </tr>\n",
       "    <tr>\n",
       "      <th>198</th>\n",
       "      <td>4695.0</td>\n",
       "      <td>254.1</td>\n",
       "      <td>256.45</td>\n",
       "      <td>258.8</td>\n",
       "    </tr>\n",
       "    <tr>\n",
       "      <th>199</th>\n",
       "      <td>4700.0</td>\n",
       "      <td>257.0</td>\n",
       "      <td>259.55</td>\n",
       "      <td>262.1</td>\n",
       "    </tr>\n",
       "  </tbody>\n",
       "</table>\n",
       "<p>200 rows × 4 columns</p>\n",
       "</div>"
      ],
      "text/plain": [
       "     Strike    Bid  Midpoint    Ask\n",
       "0    4205.0  309.6    312.05  314.5\n",
       "1    4210.0  300.4    305.60  310.8\n",
       "2    4215.0  300.2    305.35  310.5\n",
       "3    4220.0  290.2    295.75  301.3\n",
       "4    4225.0  289.5    296.35  303.2\n",
       "..      ...    ...       ...    ...\n",
       "195  4680.0  240.4    242.90  245.4\n",
       "196  4685.0  239.8    247.90  256.0\n",
       "197  4690.0  250.0    252.55  255.1\n",
       "198  4695.0  254.1    256.45  258.8\n",
       "199  4700.0  257.0    259.55  262.1\n",
       "\n",
       "[200 rows x 4 columns]"
      ]
     },
     "execution_count": 301,
     "metadata": {},
     "output_type": "execute_result"
    }
   ],
   "source": [
    "data"
   ]
  },
  {
   "cell_type": "code",
   "execution_count": 302,
   "id": "35c30002-44ba-4c57-b7b2-d00dbaf015dd",
   "metadata": {},
   "outputs": [],
   "source": [
    "data['Spread'] = data['Ask'] - data['Bid']"
   ]
  },
  {
   "cell_type": "code",
   "execution_count": 303,
   "id": "855765f6-41d3-4ca2-a300-ac00f08c5e93",
   "metadata": {},
   "outputs": [
    {
     "data": {
      "text/html": [
       "<div>\n",
       "<style scoped>\n",
       "    .dataframe tbody tr th:only-of-type {\n",
       "        vertical-align: middle;\n",
       "    }\n",
       "\n",
       "    .dataframe tbody tr th {\n",
       "        vertical-align: top;\n",
       "    }\n",
       "\n",
       "    .dataframe thead th {\n",
       "        text-align: right;\n",
       "    }\n",
       "</style>\n",
       "<table border=\"1\" class=\"dataframe\">\n",
       "  <thead>\n",
       "    <tr style=\"text-align: right;\">\n",
       "      <th></th>\n",
       "      <th>Strike</th>\n",
       "      <th>Bid</th>\n",
       "      <th>Midpoint</th>\n",
       "      <th>Ask</th>\n",
       "      <th>Spread</th>\n",
       "    </tr>\n",
       "  </thead>\n",
       "  <tbody>\n",
       "    <tr>\n",
       "      <th>0</th>\n",
       "      <td>4205.0</td>\n",
       "      <td>309.6</td>\n",
       "      <td>312.05</td>\n",
       "      <td>314.5</td>\n",
       "      <td>4.9</td>\n",
       "    </tr>\n",
       "    <tr>\n",
       "      <th>1</th>\n",
       "      <td>4210.0</td>\n",
       "      <td>300.4</td>\n",
       "      <td>305.60</td>\n",
       "      <td>310.8</td>\n",
       "      <td>10.4</td>\n",
       "    </tr>\n",
       "    <tr>\n",
       "      <th>2</th>\n",
       "      <td>4215.0</td>\n",
       "      <td>300.2</td>\n",
       "      <td>305.35</td>\n",
       "      <td>310.5</td>\n",
       "      <td>10.3</td>\n",
       "    </tr>\n",
       "    <tr>\n",
       "      <th>3</th>\n",
       "      <td>4220.0</td>\n",
       "      <td>290.2</td>\n",
       "      <td>295.75</td>\n",
       "      <td>301.3</td>\n",
       "      <td>11.1</td>\n",
       "    </tr>\n",
       "    <tr>\n",
       "      <th>4</th>\n",
       "      <td>4225.0</td>\n",
       "      <td>289.5</td>\n",
       "      <td>296.35</td>\n",
       "      <td>303.2</td>\n",
       "      <td>13.7</td>\n",
       "    </tr>\n",
       "  </tbody>\n",
       "</table>\n",
       "</div>"
      ],
      "text/plain": [
       "   Strike    Bid  Midpoint    Ask  Spread\n",
       "0  4205.0  309.6    312.05  314.5     4.9\n",
       "1  4210.0  300.4    305.60  310.8    10.4\n",
       "2  4215.0  300.2    305.35  310.5    10.3\n",
       "3  4220.0  290.2    295.75  301.3    11.1\n",
       "4  4225.0  289.5    296.35  303.2    13.7"
      ]
     },
     "execution_count": 303,
     "metadata": {},
     "output_type": "execute_result"
    }
   ],
   "source": [
    "data.head()"
   ]
  },
  {
   "cell_type": "code",
   "execution_count": 326,
   "id": "eb810d80-2801-408e-824d-71b61c14b79d",
   "metadata": {},
   "outputs": [
    {
     "data": {
      "text/plain": [
       "     fun: 6110476.959151468\n",
       "     jac: array([-31183532.5   ,  23335218.5625,   4546626.375 ,   1609801.4375,\n",
       "         7708437.375 ])\n",
       " message: 'Optimization terminated successfully'\n",
       "    nfev: 6\n",
       "     nit: 5\n",
       "    njev: 1\n",
       "  status: 0\n",
       " success: True\n",
       "       x: array([0.1, 0.2, 2. , 0.5, 0.5])"
      ]
     },
     "execution_count": 326,
     "metadata": {},
     "output_type": "execute_result"
    }
   ],
   "source": [
    "def Feller(x):\n",
    "    return 2*x[1] * x[2] - x[3]**2 - 1e-6\n",
    "cons = ({\"fun\": Feller, \"type\": \"ineq\"})\n",
    "\n",
    "def error_f(x, prices, strike, spread):\n",
    "    \n",
    "    price_calib = fft_cf(np.array(strike), 300, 0.0426, maturity, lambda u: cf_Heston_good(u, maturity, v0, x[0], x[1], x[2], x[3], x[4]))\n",
    "    \n",
    "    return sum(((price_calib - prices)/spread)**2)\n",
    "\n",
    "\n",
    "prices = data['Midpoint']\n",
    "strikes = data['Strike']\n",
    "spreads = data['Spread']\n",
    "\n",
    "init_vals = [mu, k, theta, xi, rho]\n",
    "bounds = ((-1, 1), (-10, 100), (-100, 100), (0, 100), (-1, 1))\n",
    "\n",
    "params_Hest_con = minimize(error_f, x0=init_vals, args=(prices, strikes, spreads),\n",
    "                  bounds=bounds, tol=1e-5, constraints=cons, options={\"maxiter\": 5000})\n",
    "\n",
    "# Result\n",
    "params_Hest_con"
   ]
  },
  {
   "cell_type": "code",
   "execution_count": null,
   "id": "5f76c904-dd41-4ead-969a-b3bd7baca9c1",
   "metadata": {},
   "outputs": [],
   "source": []
  },
  {
   "cell_type": "code",
   "execution_count": 327,
   "id": "a0075970-f641-4775-9450-e1d3f88a13d1",
   "metadata": {},
   "outputs": [
    {
     "data": {
      "text/plain": [
       "3955.1739842842703"
      ]
     },
     "execution_count": 327,
     "metadata": {},
     "output_type": "execute_result"
    }
   ],
   "source": [
    "fft_cf(np.array(strike), 4000, 0.0426, maturity, lambda u: cf_Heston_good(u, maturity, v0, 0.1, 0.2, 2, 0.5, 0.5))"
   ]
  },
  {
   "cell_type": "code",
   "execution_count": null,
   "id": "50095945-b133-4d27-bfe8-da9b14de4f2b",
   "metadata": {},
   "outputs": [],
   "source": []
  }
 ],
 "metadata": {
  "kernelspec": {
   "display_name": "Python 3",
   "language": "python",
   "name": "python3"
  },
  "language_info": {
   "codemirror_mode": {
    "name": "ipython",
    "version": 3
   },
   "file_extension": ".py",
   "mimetype": "text/x-python",
   "name": "python",
   "nbconvert_exporter": "python",
   "pygments_lexer": "ipython3",
   "version": "3.8.8"
  }
 },
 "nbformat": 4,
 "nbformat_minor": 5
}
