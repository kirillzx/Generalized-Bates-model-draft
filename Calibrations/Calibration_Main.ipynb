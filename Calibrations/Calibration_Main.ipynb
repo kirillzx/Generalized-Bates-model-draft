{
 "cells": [
  {
   "cell_type": "code",
   "execution_count": 1,
   "id": "0bbf4423-c079-4fa9-9a48-0bca6bcbfc9d",
   "metadata": {},
   "outputs": [],
   "source": [
    "import numpy as np\n",
    "import pandas as pd\n",
    "import matplotlib.pyplot as plt\n",
    "import seaborn as sns\n",
    "import scipy.stats as stats\n",
    "from scipy.integrate import quad\n",
    "from scipy.fft import fft, ifft\n",
    "from scipy.interpolate import interp1d\n",
    "import scipy.integrate as integrate\n",
    "from functools import partial\n",
    "from scipy.optimize import minimize, fsolve, basinhopping\n",
    "import tqdm\n",
    "import yfinance as yf\n",
    "import yahoo_fin.options as ops\n",
    "import cmath\n",
    "\n",
    "%matplotlib inline\n",
    "\n",
    "plt.style.use('ggplot')\n",
    "sns.set_palette('mako')\n",
    "sns.set_style('darkgrid')"
   ]
  },
  {
   "cell_type": "code",
   "execution_count": 2,
   "id": "d845db4c-62b3-4267-8edb-34f6af46b49a",
   "metadata": {},
   "outputs": [],
   "source": [
    "import exact_methods as exm\n",
    "import characteristics_functions as chf\n",
    "import monte_carlo_methods as mcm\n",
    "import stochastic_processes as stch\n"
   ]
  },
  {
   "cell_type": "code",
   "execution_count": 3,
   "id": "4b5da6c2-e108-4852-9e0d-4d3c5d0e9ad7",
   "metadata": {},
   "outputs": [],
   "source": [
    "expiration_dates = ops.get_expiration_dates(\"aapl\")"
   ]
  },
  {
   "cell_type": "code",
   "execution_count": 4,
   "id": "4a415d65-32c3-42ff-84cc-260ea9e55517",
   "metadata": {},
   "outputs": [
    {
     "data": {
      "text/plain": [
       "['April 8, 2022',\n",
       " 'April 14, 2022',\n",
       " 'April 22, 2022',\n",
       " 'April 29, 2022',\n",
       " 'May 6, 2022',\n",
       " 'May 13, 2022',\n",
       " 'May 20, 2022',\n",
       " 'June 17, 2022',\n",
       " 'July 15, 2022',\n",
       " 'August 19, 2022',\n",
       " 'September 16, 2022',\n",
       " 'October 21, 2022',\n",
       " 'November 18, 2022',\n",
       " 'January 20, 2023',\n",
       " 'March 17, 2023',\n",
       " 'June 16, 2023',\n",
       " 'September 15, 2023',\n",
       " 'January 19, 2024',\n",
       " 'June 21, 2024']"
      ]
     },
     "execution_count": 4,
     "metadata": {},
     "output_type": "execute_result"
    }
   ],
   "source": [
    "expiration_dates"
   ]
  },
  {
   "cell_type": "code",
   "execution_count": 5,
   "id": "85439b99-d86b-46d3-a91b-749ade0c1345",
   "metadata": {},
   "outputs": [],
   "source": [
    "s0_apple = 150.62 #15.03.2022"
   ]
  },
  {
   "cell_type": "code",
   "execution_count": 6,
   "id": "305d7fbc-b513-4ffe-8be1-e6ae894d0201",
   "metadata": {},
   "outputs": [],
   "source": [
    "apple_option_calls = ops.get_puts(\"AAPL\", expiration_dates[4])"
   ]
  },
  {
   "cell_type": "code",
   "execution_count": 7,
   "id": "b222e57b-b60f-4db6-855d-0891e493c411",
   "metadata": {},
   "outputs": [
    {
     "data": {
      "text/html": [
       "<div>\n",
       "<style scoped>\n",
       "    .dataframe tbody tr th:only-of-type {\n",
       "        vertical-align: middle;\n",
       "    }\n",
       "\n",
       "    .dataframe tbody tr th {\n",
       "        vertical-align: top;\n",
       "    }\n",
       "\n",
       "    .dataframe thead th {\n",
       "        text-align: right;\n",
       "    }\n",
       "</style>\n",
       "<table border=\"1\" class=\"dataframe\">\n",
       "  <thead>\n",
       "    <tr style=\"text-align: right;\">\n",
       "      <th></th>\n",
       "      <th>Contract Name</th>\n",
       "      <th>Last Trade Date</th>\n",
       "      <th>Strike</th>\n",
       "      <th>Last Price</th>\n",
       "      <th>Bid</th>\n",
       "      <th>Ask</th>\n",
       "      <th>Change</th>\n",
       "      <th>% Change</th>\n",
       "      <th>Volume</th>\n",
       "      <th>Open Interest</th>\n",
       "      <th>Implied Volatility</th>\n",
       "    </tr>\n",
       "  </thead>\n",
       "  <tbody>\n",
       "    <tr>\n",
       "      <th>0</th>\n",
       "      <td>AAPL220506P00100000</td>\n",
       "      <td>2022-04-06 3:04PM EDT</td>\n",
       "      <td>100.0</td>\n",
       "      <td>0.05</td>\n",
       "      <td>-</td>\n",
       "      <td>-</td>\n",
       "      <td>0.0</td>\n",
       "      <td>-</td>\n",
       "      <td>-</td>\n",
       "      <td>-</td>\n",
       "      <td>0.00%</td>\n",
       "    </tr>\n",
       "    <tr>\n",
       "      <th>1</th>\n",
       "      <td>AAPL220506P00105000</td>\n",
       "      <td>2022-03-30 12:09PM EDT</td>\n",
       "      <td>105.0</td>\n",
       "      <td>0.03</td>\n",
       "      <td>0.00</td>\n",
       "      <td>0.00</td>\n",
       "      <td>0.0</td>\n",
       "      <td>-</td>\n",
       "      <td>-</td>\n",
       "      <td>20</td>\n",
       "      <td>25.00%</td>\n",
       "    </tr>\n",
       "    <tr>\n",
       "      <th>2</th>\n",
       "      <td>AAPL220506P00110000</td>\n",
       "      <td>2022-04-06 9:45AM EDT</td>\n",
       "      <td>110.0</td>\n",
       "      <td>0.07</td>\n",
       "      <td>0.00</td>\n",
       "      <td>0.00</td>\n",
       "      <td>0.0</td>\n",
       "      <td>-</td>\n",
       "      <td>20</td>\n",
       "      <td>25</td>\n",
       "      <td>25.00%</td>\n",
       "    </tr>\n",
       "    <tr>\n",
       "      <th>3</th>\n",
       "      <td>AAPL220506P00115000</td>\n",
       "      <td>2022-04-07 1:45PM EDT</td>\n",
       "      <td>115.0</td>\n",
       "      <td>0.09</td>\n",
       "      <td>0.00</td>\n",
       "      <td>0.00</td>\n",
       "      <td>0.0</td>\n",
       "      <td>-</td>\n",
       "      <td>10</td>\n",
       "      <td>15</td>\n",
       "      <td>25.00%</td>\n",
       "    </tr>\n",
       "    <tr>\n",
       "      <th>4</th>\n",
       "      <td>AAPL220506P00120000</td>\n",
       "      <td>2022-04-06 9:32AM EDT</td>\n",
       "      <td>120.0</td>\n",
       "      <td>0.12</td>\n",
       "      <td>0.00</td>\n",
       "      <td>0.00</td>\n",
       "      <td>0.0</td>\n",
       "      <td>-</td>\n",
       "      <td>2</td>\n",
       "      <td>22</td>\n",
       "      <td>25.00%</td>\n",
       "    </tr>\n",
       "  </tbody>\n",
       "</table>\n",
       "</div>"
      ],
      "text/plain": [
       "         Contract Name         Last Trade Date  Strike  Last Price   Bid  \\\n",
       "0  AAPL220506P00100000   2022-04-06 3:04PM EDT   100.0        0.05     -   \n",
       "1  AAPL220506P00105000  2022-03-30 12:09PM EDT   105.0        0.03  0.00   \n",
       "2  AAPL220506P00110000   2022-04-06 9:45AM EDT   110.0        0.07  0.00   \n",
       "3  AAPL220506P00115000   2022-04-07 1:45PM EDT   115.0        0.09  0.00   \n",
       "4  AAPL220506P00120000   2022-04-06 9:32AM EDT   120.0        0.12  0.00   \n",
       "\n",
       "    Ask  Change % Change Volume Open Interest Implied Volatility  \n",
       "0     -     0.0        -      -             -              0.00%  \n",
       "1  0.00     0.0        -      -            20             25.00%  \n",
       "2  0.00     0.0        -     20            25             25.00%  \n",
       "3  0.00     0.0        -     10            15             25.00%  \n",
       "4  0.00     0.0        -      2            22             25.00%  "
      ]
     },
     "execution_count": 7,
     "metadata": {},
     "output_type": "execute_result"
    }
   ],
   "source": [
    "apple_option_calls.head()"
   ]
  },
  {
   "cell_type": "code",
   "execution_count": 8,
   "id": "f7adda62-91ab-433d-8680-6180ad5188a9",
   "metadata": {},
   "outputs": [],
   "source": [
    "# apple_option_calls.to_csv('apple_option_call_may_06_2022.csv')"
   ]
  },
  {
   "cell_type": "code",
   "execution_count": 9,
   "id": "16d3f679-ca72-43ca-a1c6-5d6b86da3134",
   "metadata": {},
   "outputs": [],
   "source": [
    "apple_option_calls = pd.read_csv('apple_option_call_may_06_2022.csv')"
   ]
  },
  {
   "cell_type": "code",
   "execution_count": 10,
   "id": "2f660f5c-7046-4602-abd2-df06e7193570",
   "metadata": {},
   "outputs": [
    {
     "data": {
      "text/html": [
       "<div>\n",
       "<style scoped>\n",
       "    .dataframe tbody tr th:only-of-type {\n",
       "        vertical-align: middle;\n",
       "    }\n",
       "\n",
       "    .dataframe tbody tr th {\n",
       "        vertical-align: top;\n",
       "    }\n",
       "\n",
       "    .dataframe thead th {\n",
       "        text-align: right;\n",
       "    }\n",
       "</style>\n",
       "<table border=\"1\" class=\"dataframe\">\n",
       "  <thead>\n",
       "    <tr style=\"text-align: right;\">\n",
       "      <th></th>\n",
       "      <th>Unnamed: 0</th>\n",
       "      <th>Contract Name</th>\n",
       "      <th>Last Trade Date</th>\n",
       "      <th>Strike</th>\n",
       "      <th>Last Price</th>\n",
       "      <th>Bid</th>\n",
       "      <th>Ask</th>\n",
       "      <th>Change</th>\n",
       "      <th>% Change</th>\n",
       "      <th>Volume</th>\n",
       "      <th>Open Interest</th>\n",
       "      <th>Implied Volatility</th>\n",
       "    </tr>\n",
       "  </thead>\n",
       "  <tbody>\n",
       "    <tr>\n",
       "      <th>0</th>\n",
       "      <td>0</td>\n",
       "      <td>AAPL220506P00105000</td>\n",
       "      <td>2022-03-30 12:09PM EDT</td>\n",
       "      <td>105.0</td>\n",
       "      <td>0.03</td>\n",
       "      <td>0.0</td>\n",
       "      <td>0.0</td>\n",
       "      <td>0.0</td>\n",
       "      <td>-</td>\n",
       "      <td>-</td>\n",
       "      <td>20</td>\n",
       "      <td>25.00%</td>\n",
       "    </tr>\n",
       "    <tr>\n",
       "      <th>1</th>\n",
       "      <td>1</td>\n",
       "      <td>AAPL220506P00110000</td>\n",
       "      <td>2022-04-05 1:30PM EDT</td>\n",
       "      <td>110.0</td>\n",
       "      <td>0.06</td>\n",
       "      <td>0.0</td>\n",
       "      <td>0.0</td>\n",
       "      <td>0.0</td>\n",
       "      <td>-</td>\n",
       "      <td>2</td>\n",
       "      <td>5</td>\n",
       "      <td>25.00%</td>\n",
       "    </tr>\n",
       "    <tr>\n",
       "      <th>2</th>\n",
       "      <td>2</td>\n",
       "      <td>AAPL220506P00115000</td>\n",
       "      <td>2022-04-05 3:12PM EDT</td>\n",
       "      <td>115.0</td>\n",
       "      <td>0.05</td>\n",
       "      <td>0.0</td>\n",
       "      <td>0.0</td>\n",
       "      <td>0.0</td>\n",
       "      <td>-</td>\n",
       "      <td>8</td>\n",
       "      <td>6</td>\n",
       "      <td>25.00%</td>\n",
       "    </tr>\n",
       "    <tr>\n",
       "      <th>3</th>\n",
       "      <td>3</td>\n",
       "      <td>AAPL220506P00120000</td>\n",
       "      <td>2022-04-04 11:45AM EDT</td>\n",
       "      <td>120.0</td>\n",
       "      <td>0.11</td>\n",
       "      <td>0.0</td>\n",
       "      <td>0.0</td>\n",
       "      <td>0.0</td>\n",
       "      <td>-</td>\n",
       "      <td>2</td>\n",
       "      <td>20</td>\n",
       "      <td>25.00%</td>\n",
       "    </tr>\n",
       "    <tr>\n",
       "      <th>4</th>\n",
       "      <td>4</td>\n",
       "      <td>AAPL220506P00125000</td>\n",
       "      <td>2022-04-04 3:18PM EDT</td>\n",
       "      <td>125.0</td>\n",
       "      <td>0.11</td>\n",
       "      <td>0.0</td>\n",
       "      <td>0.0</td>\n",
       "      <td>0.0</td>\n",
       "      <td>-</td>\n",
       "      <td>1027</td>\n",
       "      <td>1133</td>\n",
       "      <td>25.00%</td>\n",
       "    </tr>\n",
       "  </tbody>\n",
       "</table>\n",
       "</div>"
      ],
      "text/plain": [
       "   Unnamed: 0        Contract Name         Last Trade Date  Strike  \\\n",
       "0           0  AAPL220506P00105000  2022-03-30 12:09PM EDT   105.0   \n",
       "1           1  AAPL220506P00110000   2022-04-05 1:30PM EDT   110.0   \n",
       "2           2  AAPL220506P00115000   2022-04-05 3:12PM EDT   115.0   \n",
       "3           3  AAPL220506P00120000  2022-04-04 11:45AM EDT   120.0   \n",
       "4           4  AAPL220506P00125000   2022-04-04 3:18PM EDT   125.0   \n",
       "\n",
       "   Last Price  Bid  Ask  Change % Change Volume  Open Interest  \\\n",
       "0        0.03  0.0  0.0     0.0        -      -             20   \n",
       "1        0.06  0.0  0.0     0.0        -      2              5   \n",
       "2        0.05  0.0  0.0     0.0        -      8              6   \n",
       "3        0.11  0.0  0.0     0.0        -      2             20   \n",
       "4        0.11  0.0  0.0     0.0        -   1027           1133   \n",
       "\n",
       "  Implied Volatility  \n",
       "0             25.00%  \n",
       "1             25.00%  \n",
       "2             25.00%  \n",
       "3             25.00%  \n",
       "4             25.00%  "
      ]
     },
     "execution_count": 10,
     "metadata": {},
     "output_type": "execute_result"
    }
   ],
   "source": [
    "apple_option_calls.head()"
   ]
  },
  {
   "cell_type": "code",
   "execution_count": 11,
   "id": "8223094c-39d8-45a8-aa0f-6d1b1d5e4450",
   "metadata": {},
   "outputs": [],
   "source": [
    "apple_strikes = apple_option_calls.loc[:, 'Strike']\n",
    "apple_market_price = apple_option_calls.loc[:, 'Last Price']"
   ]
  },
  {
   "cell_type": "code",
   "execution_count": 12,
   "id": "646c10ea-941a-436b-a410-b2573c778caf",
   "metadata": {},
   "outputs": [],
   "source": [
    "apple_spread = apple_option_calls.loc[:, 'Ask'] - apple_option_calls.loc[:, 'Bid']"
   ]
  },
  {
   "cell_type": "code",
   "execution_count": 13,
   "id": "6162e282-637a-471d-b271-cf47bb6f0241",
   "metadata": {},
   "outputs": [],
   "source": [
    "from datetime import datetime"
   ]
  },
  {
   "cell_type": "code",
   "execution_count": 14,
   "id": "1efa5a7a-31d5-4138-b7c5-7af3f208d086",
   "metadata": {},
   "outputs": [
    {
     "data": {
      "text/plain": [
       "datetime.datetime(2022, 5, 6, 0, 0)"
      ]
     },
     "execution_count": 14,
     "metadata": {},
     "output_type": "execute_result"
    }
   ],
   "source": [
    "expr_date = datetime.strptime(expiration_dates[4], '%B %d, %Y')\n",
    "expr_date"
   ]
  },
  {
   "cell_type": "code",
   "execution_count": 15,
   "id": "6c6fd884-0c08-40f7-abf0-7f24eb179819",
   "metadata": {},
   "outputs": [
    {
     "data": {
      "text/plain": [
       "datetime.datetime(2022, 4, 8, 15, 44, 18, 227273)"
      ]
     },
     "execution_count": 15,
     "metadata": {},
     "output_type": "execute_result"
    }
   ],
   "source": [
    "today_date = datetime.now()\n",
    "today_date"
   ]
  },
  {
   "cell_type": "code",
   "execution_count": 16,
   "id": "74f1479d-1ca4-4853-810a-da5bcc234b1f",
   "metadata": {},
   "outputs": [
    {
     "data": {
      "text/plain": [
       "0.07392197125256673"
      ]
     },
     "execution_count": 16,
     "metadata": {},
     "output_type": "execute_result"
    }
   ],
   "source": [
    "maturity = expr_date - today_date\n",
    "maturity = maturity.days/365.25\n",
    "maturity"
   ]
  },
  {
   "cell_type": "code",
   "execution_count": 17,
   "id": "08d14a2b-2069-45cc-949c-0fa8c87e17b6",
   "metadata": {},
   "outputs": [
    {
     "data": {
      "text/plain": [
       "27"
      ]
     },
     "execution_count": 17,
     "metadata": {},
     "output_type": "execute_result"
    }
   ],
   "source": [
    "(expr_date - today_date).days"
   ]
  },
  {
   "cell_type": "code",
   "execution_count": null,
   "id": "688afafe-56fc-43d0-8c7a-adc11ea1de2c",
   "metadata": {},
   "outputs": [],
   "source": []
  },
  {
   "cell_type": "code",
   "execution_count": 18,
   "id": "bed71a2f-811d-446a-bf4c-800df679b3fd",
   "metadata": {},
   "outputs": [],
   "source": [
    "N = 500\n",
    "T = maturity\n",
    "r = 0.05\n",
    "rho1 = 0.01\n",
    "\n",
    "# type_option = 'c'\n",
    "type_option = 'p'"
   ]
  },
  {
   "cell_type": "code",
   "execution_count": 19,
   "id": "4c176853-61f3-4365-aad4-589138c69e07",
   "metadata": {},
   "outputs": [],
   "source": [
    "# r, kappa, gamma, vbar, v0, rho\n",
    "\n",
    "def error_fHM(x, prices, strikes, s0, spread):\n",
    "    cf = chf.ChFHestonModel(x[0], 1, x[1], x[2], x[3], x[4], x[5])\n",
    "    \n",
    "    price_calib = exm.CallPutOptionPriceCOS(cf, type_option, s0, x[0], T, strikes, N, 8).T[0]\n",
    "#     errorVector = (price_calib - prices)\n",
    "    errorVector = np.mean(((price_calib - prices))**2)\n",
    "    \n",
    "#     value = np.linalg.norm(errorVector)\n",
    "    value = errorVector\n",
    "    return value"
   ]
  },
  {
   "cell_type": "code",
   "execution_count": 20,
   "id": "3f3eaff0-e8b5-4aef-a5d5-1b5e93651ac9",
   "metadata": {},
   "outputs": [
    {
     "data": {
      "text/plain": [
       "      fun: 6.776126739964324\n",
       " hess_inv: <6x6 LbfgsInvHessProduct with dtype=float64>\n",
       "      jac: array([ 2.51467864e+01, -1.42064139e-02,  3.12162420e+00, -3.66091779e-01,\n",
       "       -1.85221261e-01, -4.28213909e-02])\n",
       "  message: 'CONVERGENCE: REL_REDUCTION_OF_F_<=_FACTR*EPSMCH'\n",
       "     nfev: 147\n",
       "      nit: 14\n",
       "     njev: 21\n",
       "   status: 0\n",
       "  success: True\n",
       "        x: array([ 2.48589748e-01,  2.47882132e+00,  6.71548951e-03,  1.71950791e-01,\n",
       "        1.88129657e-03, -4.44184298e-01])"
      ]
     },
     "execution_count": 20,
     "metadata": {},
     "output_type": "execute_result"
    }
   ],
   "source": [
    "init_vals = [0.05, 2, 0.3, 0.4, 0.3, -0.7]\n",
    "bounds = ((0.001, 0.3), (0.001, 4), (0.0001, 2), (0.0001, 1.5), (0.0001, 1.5), (-0.9, 0.9))\n",
    "\n",
    "# P0T = lambda T: np.exp(0.0012*T+0.0007) \n",
    "s0 = 174.62\n",
    "\n",
    "# referenceIV = np.array([48.53, 24.49, 19.23])/100.0\n",
    "        \n",
    "# T = 5/365.25\n",
    "# referenceIV = np.array([36.76, 29.18, 27.66])/100.0\n",
    "    \n",
    "# frwd = s0/P0T(T)\n",
    "# K = [0.4*frwd, frwd, 1.2*frwd]\n",
    "# K = np.array(K).reshape([len(K),1])\n",
    "      \n",
    "# referenceIV = np.array(referenceIV).reshape([len(referenceIV),1])\n",
    "# marketPrice = P0T(T)* exm.BS_Call_Option_Price('c', s0 / P0T(T), K, referenceIV, T, 0)\n",
    "\n",
    "\n",
    "# params_heston_COS = minimize(error_fHM, x0=init_vals, args=(apple_market_price, apple_strikes, s0_apple, apple_spread),\n",
    "#                              bounds=bounds, tol=1e-4, options={\"maxiter\": 1000})\n",
    "\n",
    "K = apple_strikes\n",
    "marketPrice = apple_market_price\n",
    "\n",
    "params_heston_COS = minimize(error_fHM, x0=init_vals, args=(marketPrice, K, s0, apple_spread),\n",
    "                             bounds=bounds, tol=1e-4, options={\"maxiter\": 1000})\n",
    "\n",
    "params_heston_COS"
   ]
  },
  {
   "cell_type": "code",
   "execution_count": 21,
   "id": "7f87123b-39f8-4622-b519-fafa80849f80",
   "metadata": {},
   "outputs": [
    {
     "data": {
      "text/plain": [
       "2.6030994487272907"
      ]
     },
     "execution_count": 21,
     "metadata": {},
     "output_type": "execute_result"
    }
   ],
   "source": [
    "np.sqrt(params_heston_COS.fun)"
   ]
  },
  {
   "cell_type": "code",
   "execution_count": 22,
   "id": "a6738877-039a-46bc-a57e-03847aa944ff",
   "metadata": {},
   "outputs": [],
   "source": [
    "r, kappa, gamma, vbar, v0, rho = params_heston_COS.x"
   ]
  },
  {
   "cell_type": "code",
   "execution_count": 23,
   "id": "4465b24b-caf8-4390-b904-6aae9ee8b50c",
   "metadata": {},
   "outputs": [],
   "source": [
    "cf = chf.ChFHestonModel(r, 1, kappa, gamma, vbar, v0, rho)\n",
    "option_heston_cos = exm.CallPutOptionPriceCOS(cf, type_option, s0, r, T, K, N, 10).T[0]"
   ]
  },
  {
   "cell_type": "code",
   "execution_count": 24,
   "id": "9edd650c-097c-4f82-ab69-19e694c084cd",
   "metadata": {},
   "outputs": [
    {
     "data": {
      "image/png": "[encoded data removed]",
      "text/plain": [
       "<Figure size 1000x500 with 1 Axes>"
      ]
     },
     "metadata": {},
     "output_type": "display_data"
    }
   ],
   "source": [
    "plt.subplots(figsize=(10, 5), dpi=100)\n",
    "\n",
    "plt.plot(K, marketPrice, label='Initial Prices')\n",
    "plt.plot(K, option_heston_cos, color='green', label='Heston COS')\n",
    "        \n",
    "plt.title('Option Pricing for AAPL with Heston COS', fontsize=16)\n",
    "plt.xlabel('Strikes', fontsize=14)\n",
    "plt.ylabel('Values', fontsize=14)\n",
    "plt.legend()\n",
    "plt.show()"
   ]
  },
  {
   "cell_type": "code",
   "execution_count": null,
   "id": "7995a2c4-92e0-48ab-b7f4-8ec8339a71ea",
   "metadata": {},
   "outputs": [],
   "source": []
  },
  {
   "cell_type": "code",
   "execution_count": 25,
   "id": "938ca018-cefa-4fb0-8b91-3d560e05385c",
   "metadata": {},
   "outputs": [],
   "source": [
    "def calibrationBates_SIR_SC(CP, xip, K, marketPrice, s0, T, P0T):\n",
    "    K = np.array(K)\n",
    "    marketPrice = np.array(marketPrice)\n",
    "    \n",
    "    # x = [k, gamma, vb, gammar, mur, murho, sigmarho, rho4, rho5, v0, kr, krho, rho0, r0, muJ, sigmaJ]\n",
    "    f_obj = lambda x: errorFun(CP, tau, T, x[0], x[1], x[2], x[10], x[3], x[4], x[11], x[5], x[6], x[7], x[8], xip, x[14],\n",
    "                               x[15], x[9], x[13], x[12], K, marketPrice, s0, P0T)\n",
    "\n",
    "    #[k, gamma, vb, gammar, mur, murho, sigmarho, rho4, rho5, v0, kr, krho, rho0, r0, muJ, sigmaJ]\n",
    "    initial = np.array([0.4, 0.3, 0.04, 0.3, 0.1, 0.2, 0.5, 0.1, 0.1, 0.05, 0.4, 0.5, -0.7, 0.001, 0, 1])\n",
    "#     pars  = minimize(f_obj, initial, method='nelder-mead', options = {'xtol': 1e-05, 'disp': False,'maxiter':1000})\n",
    "    \n",
    "    xmin = [0.001, 0.0001, 0.0001, 0.0005, 0.001, 0.0001, 0.0005, -0.99, -0.99, 0.0001, 0.0001, 0.4, -1, -0.5, -10, 0.0001]\n",
    "#     xmax = [2, 0.3, 0.4, 0.3, 0.4, 0.4, 0.2, 0.8, 0.8, 0.3, 0.99, 0.99]  \n",
    "    xmax = [5, 0.7, 1.5, 2, 3, 2, 1, 0.6, 0.9, 1.7, 4, 5, 1, 0.3, 10, 15] \n",
    "    \n",
    "    bounds = [(low, high) for low, high in zip(xmin, xmax)]\n",
    "    \n",
    "    minimizer_kwargs = dict(method=\"L-BFGS-B\", bounds=bounds)\n",
    "\n",
    "#     # Global search\n",
    "#     pars = basinhopping(f_obj, initial, niter=1, minimizer_kwargs=minimizer_kwargs)\n",
    "    \n",
    "#     k_est = pars.x[0]\n",
    "#     gamma_est = pars.x[1]\n",
    "#     vb_est = pars.x[2]\n",
    "#     gammar_est = pars.x[3]\n",
    "#     mur_est = pars.x[4]\n",
    "#     murho_est = pars.x[5]\n",
    "#     sigmarho_est = pars.x[6]\n",
    "#     rho4_est = pars.x[7]\n",
    "#     rho5_est = pars.x[8]\n",
    "#     v0_est = pars.x[9]\n",
    "#     kr_est = pars.x[10]\n",
    "#     krho_est = pars.x[11]\n",
    "#     rho0 = pars.x[12]\n",
    "#     r0 = pars.x[13]\n",
    "#     muJ = pars.x[14]\n",
    "#     sigmaJ = pars.x[15]\n",
    "\n",
    "#     print(f'Initial guess: {pars.x}', pars.fun)\n",
    "\n",
    "# #     Use global parameters in the local search\n",
    "#     initial = [k_est, gamma_est, vb_est, gammar_est, mur_est, murho_est, sigmarho_est, rho4_est, rho5_est, v0_est, kr_est, krho_est, rho0, r0,\n",
    "#                   muJ, sigmaJ] \n",
    "    \n",
    "    pars  = minimize(f_obj, x0=initial, tol=1e-8, bounds=bounds, options = {'maxiter': 200, 'disp':False})\n",
    "#     pars  = minimize(f_obj, x0=initial, method='nelder-mead', tol=1e-6, options = {'maxiter': 100, 'disp':False})\n",
    "    print(pars)\n",
    "    \n",
    "    k_est = pars.x[0]\n",
    "    gamma_est = pars.x[1]\n",
    "    vb_est = pars.x[2]\n",
    "    gammar_est = pars.x[3]\n",
    "    mur_est = pars.x[4]\n",
    "    murho_est = pars.x[5]\n",
    "    sigmarho_est = pars.x[6]\n",
    "    rho4_est = pars.x[7]\n",
    "    rho5_est = pars.x[8]\n",
    "    v0_est = pars.x[9]\n",
    "    kr_est = pars.x[10]\n",
    "    krho_est = pars.x[11]\n",
    "    rho0_est = pars.x[12]\n",
    "    r0_est = pars.x[13]\n",
    "    muJ_est = pars.x[14]\n",
    "    sigmaJ_est = pars.x[15]\n",
    "    \n",
    "    parmCalibr =  {\"k\":k_est, \"gamma\":gamma_est, \"vb\":vb_est, \"gammar\":gammar_est, \"mur\":mur_est, \"murho\":murho_est, \\\n",
    "                   \"sigmarho\":sigmarho_est, \"rho4\":rho4_est, \"rho5\": rho5_est, \"v0\":v0_est, \"kr\": kr_est, \"krho\": krho_est, \\\n",
    "                   \"rho0\": rho0_est, \"r0\": r0_est, \"muJ\": muJ_est, \"sigmaJ\": sigmaJ_est, 'ErrorFinal':pars.fun}\n",
    "    return parmCalibr"
   ]
  },
  {
   "cell_type": "code",
   "execution_count": 26,
   "id": "e2cdb9df-3dff-4ca4-9168-f88b299f1403",
   "metadata": {},
   "outputs": [],
   "source": [
    "def errorFun(CP, tau, T, k, gamma, vb, kr, gammar, mur, krho, murho, sigmarho, rho4, rho5, xip, muJ, sigmaJ, v0, r0, rho0, K, marketPrice, s0, P0T):\n",
    "    if K is not np.array:\n",
    "        K = np.array(K).reshape([len(K),1])\n",
    "\n",
    "    N = 500\n",
    "    L = 10\n",
    "    cf = chf.ChFBates_StochIR_StochCor(tau, T, k, gamma, vb, kr, gammar, mur, krho, murho, sigmarho, rho4, rho5, xip, muJ, sigmaJ, v0, r0, rho0)\n",
    "    valCOS = exm.optionPriceCOSMthd_StochIR(cf, CP, s0, T, K, N, L, P0T(T))\n",
    "\n",
    "    errorVector = np.mean((valCOS.T[0] - marketPrice)**2)\n",
    "#     errorVector = valCOS - marketPrice\n",
    "    value = errorVector\n",
    "#     value = np.linalg.norm(errorVector)\n",
    "\n",
    "    return value"
   ]
  },
  {
   "cell_type": "code",
   "execution_count": 27,
   "id": "536e0ee1-f778-4d0a-b9fb-a98d6d66666b",
   "metadata": {},
   "outputs": [
    {
     "name": "stdout",
     "output_type": "stream",
     "text": [
      "      fun: 0.3922216795729194\n",
      " hess_inv: <16x16 LbfgsInvHessProduct with dtype=float64>\n",
      "      jac: array([-5.56844019e-03,  1.00856729e-01,  6.84158896e-01, -1.14305232e-03,\n",
      "        5.30131495e-06, -3.37435635e-04,  8.96394071e-05,  9.47120161e-04,\n",
      "       -4.32089920e-03,  3.03353526e-01,  5.86614091e-04, -7.81541499e-04,\n",
      "       -2.80399702e-02,  5.02983766e-02, -4.20774492e-06,  7.21644966e-08])\n",
      "  message: 'CONVERGENCE: REL_REDUCTION_OF_F_<=_FACTR*EPSMCH'\n",
      "     nfev: 578\n",
      "      nit: 25\n",
      "     njev: 34\n",
      "   status: 0\n",
      "  success: True\n",
      "        x: array([ 4.99997318e+00,  3.29032399e-01,  2.24294382e-02,  2.92443392e-01,\n",
      "        9.71203072e-02,  1.93602637e-01,  4.98896589e-01,  8.70954555e-02,\n",
      "        7.60381886e-02,  1.13640035e-01,  4.02778685e-01,  4.89023684e-01,\n",
      "       -9.46099870e-01, -3.13042685e-01, -9.99999920e+00,  1.85867294e-03])\n"
     ]
    }
   ],
   "source": [
    "T = maturity\n",
    "tau = T\n",
    "s0 = 174.62\n",
    "xip = 0.5\n",
    "type_option = 'p'\n",
    "\n",
    "P0T = lambda T: np.exp(0.0005*T)\n",
    "\n",
    "# dt = 0.0001 \n",
    "# # P0T = lambda T: np.exp(0.0012*T+0.0007) \n",
    "# f0T = lambda t: - (np.log(P0T(t+dt))-np.log(P0T(t-dt)))/(2.0*dt)\n",
    "# r0 = f0T(0.00001)\n",
    "\n",
    "# dt = 0.01    \n",
    "# f0T = lambda t: - (np.log(P0T(t+dt))-np.log(P0T(t-dt)))/(2.0*dt)\n",
    "# r0 =abs(f0T(0.001))\n",
    "\n",
    "# P0T = lambda T: np.exp(0.0012*T+0.0007)\n",
    "    \n",
    "#     T = 0.5\n",
    "# referenceIV  = np.array([57.61, 22.95, 15.9])/100.0\n",
    "    \n",
    "#T = 1.0\n",
    "# referenceIV = np.array([48.53, 24.49, 19.23])/100.0\n",
    "        \n",
    "# #T = 10.0\n",
    "# # referenceIV = np.array([36.76, 29.18, 27.66])/100.0\n",
    "# s0 = 150.62\n",
    "# frwd = s0/P0T(T)\n",
    "# K = [0.4*frwd, frwd, 1.2*frwd]\n",
    "# # K = apple_strikes\n",
    "# K = np.array(K).reshape([len(K),1])\n",
    "      \n",
    "# referenceIV = np.array(referenceIV).reshape([len(referenceIV),1])\n",
    "\n",
    "\n",
    "# marketPrice = P0T(T) * BS_Call_Put_Option_Price(OptionType.CALL, s0 / P0T(T),K,referenceIV,T,0.0)\n",
    "\n",
    "K = apple_strikes\n",
    "\n",
    "marketPrice = apple_market_price\n",
    "\n",
    "calibratedParms =  calibrationBates_SIR_SC(type_option, xip, K, marketPrice, s0, T, P0T)\n",
    "\n",
    "k = calibratedParms.get('k')\n",
    "gamma = calibratedParms.get('gamma')\n",
    "vb = calibratedParms.get('vb')\n",
    "gammar = calibratedParms.get('gammar')\n",
    "mur = calibratedParms.get('mur')\n",
    "murho = calibratedParms.get('murho')\n",
    "sigmarho = calibratedParms.get('sigmarho')\n",
    "rho4 = calibratedParms.get('rho4')\n",
    "rho5 = calibratedParms.get('rho5')\n",
    "v0 = calibratedParms.get('v0')\n",
    "kr = calibratedParms.get('kr')\n",
    "krho = calibratedParms.get('krho')\n",
    "rho0 = calibratedParms.get('rho0')\n",
    "r0 = calibratedParms.get('r0')\n",
    "muJ = calibratedParms.get('muJ')\n",
    "sigmaJ = calibratedParms.get('sigmaJ')\n",
    "\n",
    "errorFinal = calibratedParms.get('ErrorFinal') "
   ]
  },
  {
   "cell_type": "code",
   "execution_count": 28,
   "id": "9ae22635-d3ae-4679-9d1d-9795f32df1a6",
   "metadata": {},
   "outputs": [
    {
     "data": {
      "text/plain": [
       "0.6262760410337597"
      ]
     },
     "execution_count": 28,
     "metadata": {},
     "output_type": "execute_result"
    }
   ],
   "source": [
    "np.sqrt(errorFinal)"
   ]
  },
  {
   "cell_type": "code",
   "execution_count": 29,
   "id": "686be608-49c2-4565-ad43-d88944ae2e2a",
   "metadata": {},
   "outputs": [
    {
     "data": {
      "text/plain": [
       "0.39222168"
      ]
     },
     "execution_count": 29,
     "metadata": {},
     "output_type": "execute_result"
    }
   ],
   "source": [
    "round(errorFinal, 9)"
   ]
  },
  {
   "cell_type": "code",
   "execution_count": 30,
   "id": "06ac4a26-6d8a-408c-ba20-aef5334cbaa8",
   "metadata": {},
   "outputs": [],
   "source": [
    "L = 10\n",
    "N = 500\n",
    "\n",
    "cf = chf.ChFBates_StochIR_StochCor(tau, T, k, gamma, vb, kr, gammar, mur, krho, murho, sigmarho, rho4, rho5, xip, muJ, sigmaJ, v0, r0, rho0)\n",
    "valCOS = exm.optionPriceCOSMthd_StochIR(cf, type_option, s0, T, K, N, L, P0T(T))"
   ]
  },
  {
   "cell_type": "code",
   "execution_count": 31,
   "id": "acc6a523-baeb-40e6-8bfa-0684d4b64c3a",
   "metadata": {},
   "outputs": [
    {
     "data": {
      "image/png": "[encoded data removed]",
      "text/plain": [
       "<Figure size 1000x500 with 1 Axes>"
      ]
     },
     "metadata": {},
     "output_type": "display_data"
    }
   ],
   "source": [
    "plt.subplots(figsize=(10, 5), dpi=100)\n",
    "\n",
    "plt.plot(K, marketPrice, label='Initial Prices')\n",
    "plt.plot(K, valCOS, '--', color='green', label='Bates Stoch Corr Stoch IR')\n",
    "        \n",
    "plt.title('Option Pricing for AAPL with Bates Stoch Corr Stoch IR', fontsize=16)\n",
    "plt.xlabel('Strikes', fontsize=14)\n",
    "plt.ylabel('Values', fontsize=14)\n",
    "plt.legend()\n",
    "plt.show()"
   ]
  },
  {
   "cell_type": "code",
   "execution_count": 32,
   "id": "df1d29ec-942c-4475-b098-f20420856d6f",
   "metadata": {},
   "outputs": [
    {
     "name": "stdout",
     "output_type": "stream",
     "text": [
      "r0: -0.31304268494504633, v0: 0.11364003494116677, rho0: -0.9460998704132517, muJ: -9.999999195403289, sigmaJ: 0.0018586729393343525\n"
     ]
    }
   ],
   "source": [
    "print(f'r0: {r0}, v0: {v0}, rho0: {rho0}, muJ: {muJ}, sigmaJ: {sigmaJ}')"
   ]
  },
  {
   "cell_type": "code",
   "execution_count": 33,
   "id": "411f27b2-1b2d-433f-bbd4-348cb0b14ce9",
   "metadata": {},
   "outputs": [
    {
     "data": {
      "text/plain": [
       "0.3922216795729194"
      ]
     },
     "execution_count": 33,
     "metadata": {},
     "output_type": "execute_result"
    }
   ],
   "source": [
    "np.mean((marketPrice.values - valCOS.T[0])**2)"
   ]
  },
  {
   "cell_type": "code",
   "execution_count": null,
   "id": "595f3bda-5186-4e09-b6e3-07a16bf2c7d6",
   "metadata": {},
   "outputs": [],
   "source": []
  },
  {
   "cell_type": "code",
   "execution_count": 34,
   "id": "7a2f7a6d-19e5-43cd-8b0b-eb231a3ab0ea",
   "metadata": {},
   "outputs": [
    {
     "name": "stdout",
     "output_type": "stream",
     "text": [
      "Final error for H1HW = 0.658834607\n"
     ]
    },
    {
     "data": {
      "image/png": "[encoded data removed]",
      "text/plain": [
       "<Figure size 1000x500 with 1 Axes>"
      ]
     },
     "metadata": {},
     "output_type": "display_data"
    }
   ],
   "source": [
    "import numpy as np\n",
    "import matplotlib.pyplot as plt\n",
    "import scipy.integrate as integrate\n",
    "import scipy.stats as st\n",
    "import scipy.special as sp\n",
    "import enum \n",
    "import scipy.optimize as optimize\n",
    "from scipy.optimize import minimize\n",
    "\n",
    "i   = complex(0.0,1.0)\n",
    "\n",
    "# Time step \n",
    "dt = 0.0001\n",
    "\n",
    "class OptionType(enum.Enum):\n",
    "    CALL = 1.0\n",
    "    PUT = -1.0\n",
    "    \n",
    "def CallPutOptionPriceCOSMthd_StochIR(cf,CP,S0,tau,K,N,L,P0T):\n",
    "\n",
    "\n",
    "    # cf   - Characteristic function is a function, in the book denoted by \\varphi\n",
    "    # CP   - C for call and P for put\n",
    "    # S0   - Initial stock price\n",
    "    # tau  - Time to maturity\n",
    "    # K    - List of strikes\n",
    "    # N    - Number of expansion terms\n",
    "    # L    - Size of truncation domain (typ.:L=8 or L=10)\n",
    "    # P0T  - Zero-coupon bond for maturity T.\n",
    "\n",
    "    # Reshape K to become a column vector\n",
    "\n",
    "    if K is not np.array:\n",
    "        K = np.array(K).reshape([len(K),1])\n",
    "    \n",
    "    # Assigning i=sqrt(-1)\n",
    "\n",
    "    i = complex(0.0,1.0) \n",
    "    x0 = np.log(S0 / K)   \n",
    "    \n",
    "    # Truncation domain\n",
    "\n",
    "    a = 0.0 - L * np.sqrt(tau)\n",
    "    b = 0.0 + L * np.sqrt(tau)\n",
    "    \n",
    "    # Summation from k = 0 to k=N-1\n",
    "\n",
    "    k = np.linspace(0,N-1,N).reshape([N,1])  \n",
    "    u = k * np.pi / (b - a)  \n",
    "\n",
    "    # Determine coefficients for put prices  \n",
    "\n",
    "    H_k = CallPutCoefficients(OptionType.PUT,a,b,k)   \n",
    "    mat = np.exp(i * np.outer((x0 - a) , u))\n",
    "    temp = cf(u) * H_k \n",
    "    temp[0] = 0.5 * temp[0]    \n",
    "    value = K * np.real(mat.dot(temp))     \n",
    "    \n",
    "    # We use the put-call parity for call options\n",
    "\n",
    "    if CP == OptionType.CALL:\n",
    "        value = value + S0 - K * P0T\n",
    "        \n",
    "    return value\n",
    "\n",
    "# Determine coefficients for put prices \n",
    "\n",
    "def CallPutCoefficients(CP,a,b,k):\n",
    "    if CP==OptionType.CALL:                  \n",
    "        c = 0.0\n",
    "        d = b\n",
    "        coef = Chi_Psi(a,b,c,d,k)\n",
    "        Chi_k = coef[\"chi\"]\n",
    "        Psi_k = coef[\"psi\"]\n",
    "        if a < b and b < 0.0:\n",
    "            H_k = np.zeros([len(k),1])\n",
    "        else:\n",
    "            H_k      = 2.0 / (b - a) * (Chi_k - Psi_k)  \n",
    "    elif CP==OptionType.PUT:\n",
    "        c = a\n",
    "        d = 0.0\n",
    "        coef = Chi_Psi(a,b,c,d,k)\n",
    "        Chi_k = coef[\"chi\"]\n",
    "        Psi_k = coef[\"psi\"]\n",
    "        H_k      = 2.0 / (b - a) * (- Chi_k + Psi_k)               \n",
    "    \n",
    "    return H_k    \n",
    "\n",
    "def Chi_Psi(a,b,c,d,k):\n",
    "    psi = np.sin(k * np.pi * (d - a) / (b - a)) - np.sin(k * np.pi * (c - a)/(b - a))\n",
    "    psi[1:] = psi[1:] * (b - a) / (k[1:] * np.pi)\n",
    "    psi[0] = d - c\n",
    "    \n",
    "    chi = 1.0 / (1.0 + np.power((k * np.pi / (b - a)) , 2.0)) \n",
    "    expr1 = np.cos(k * np.pi * (d - a)/(b - a)) * np.exp(d)  - np.cos(k * np.pi \n",
    "                  * (c - a) / (b - a)) * np.exp(c)\n",
    "    expr2 = k * np.pi / (b - a) * np.sin(k * np.pi * \n",
    "                        (d - a) / (b - a))   - k * np.pi / (b - a) * np.sin(k \n",
    "                        * np.pi * (c - a) / (b - a)) * np.exp(c)\n",
    "    chi = chi * (expr1 + expr2)\n",
    "    \n",
    "    value = {\"chi\":chi,\"psi\":psi }\n",
    "    return value\n",
    "    \n",
    "# Black-Scholes call option price\n",
    "\n",
    "def meanSqrtV_3(kappa,v0,vbar,gamma):\n",
    "    delta = 4.0 *kappa*vbar/gamma/gamma\n",
    "    c= lambda t: 1.0/(4.0*kappa)*gamma*gamma*(1.0-np.exp(-kappa*(t)))\n",
    "    kappaBar = lambda t: 4.0*kappa*v0*np.exp(-kappa*t)/(gamma*gamma*(1.0-np.exp(-kappa*t)))\n",
    "    temp1 = lambda t: np.sqrt(2.0*c(t))* sp.gamma((1.0+delta)/2.0)/sp.gamma(delta/2.0)*sp.hyp1f1(-0.5,delta/2.0,-kappaBar(t)/2.0)\n",
    "    return temp1\n",
    "\n",
    "def C_H1HW(u,tau,lambd):\n",
    "    i = complex(0.0,1.0)\n",
    "    C = (i*u - 1.0)/lambd * (1-np.exp(-lambd*tau))\n",
    "    return C\n",
    "\n",
    "def D_H1HW(u,tau,kappa,gamma,rhoxv):\n",
    "    i = complex(0.0,1.0)\n",
    "    \n",
    "    D1 = np.sqrt(np.power(kappa-gamma*rhoxv*i*u,2)+(u*u+i*u)*gamma*gamma)\n",
    "    g  = (kappa-gamma*rhoxv*i*u-D1)/(kappa-gamma*rhoxv*i*u+D1)\n",
    "    D  = (1.0-np.exp(-D1*tau))/(gamma*gamma*(1.0-g*np.exp(-D1*tau)))\\\n",
    "        *(kappa-gamma*rhoxv*i*u-D1)\n",
    "    return D\n",
    "    \n",
    "def A_H1HW(u,tau,P0T,lambd,eta,kappa,gamma,vbar,v0,rhoxv,rhoxr):\n",
    "    i  = complex(0.0,1.0)\n",
    "    D1 = np.sqrt(np.power(kappa-gamma*rhoxv*i*u,2)+(u*u+i*u)*gamma*gamma)\n",
    "    g  = (kappa-gamma*rhoxv*i*u-D1)/(kappa-gamma*rhoxv*i*u+D1)\n",
    "    \n",
    "    # Function theta(t)\n",
    "\n",
    "    dt = 0.0001    \n",
    "    f0T = lambda t: - (np.log(P0T(t+dt))-np.log(P0T(t-dt)))/(2.0*dt)\n",
    "    theta = lambda t: 1.0/lambd * (f0T(t+dt)-f0T(t-dt))/(2.0*dt) + f0T(t) + eta*eta/(2.0*lambd*lambd)*(1.0-np.exp(-2.0*lambd*t))  \n",
    "\n",
    "    # Integration within the function I_1\n",
    "\n",
    "    N  = 500\n",
    "    z  = np.linspace(0,tau-1e-10,N)\n",
    "    f1 = (1.0-np.exp(-lambd*z))*theta(tau-z)\n",
    "    value1 = integrate.trapz(f1,z)\n",
    "    \n",
    "    # Note that I_1_adj also allows time-dependent theta \n",
    "    # Therefore it is not exactly the same as in the book\n",
    "\n",
    "    I_1_adj = (i*u-1.0) * value1\n",
    "    I_2     = tau/(gamma**2.0) *(kappa-gamma*rhoxv*i*u-D1) - 2.0/(gamma**2.0)*np.log((1.0-g*np.exp(-D1*tau))/(1.0-g))\n",
    "    I_3     = 1.0/(2.0*np.power(lambd,3.0))* np.power(i+u,2.0)*(3.0+np.exp(-2.0*lambd*tau)-4.0*np.exp(-lambd*tau)-2.0*lambd*tau)\n",
    "    \n",
    "    meanSqrtV = meanSqrtV_3(kappa,v0,vbar,gamma)\n",
    "    f2        = meanSqrtV(tau-z)*(1.0-np.exp(-lambd*z))\n",
    "    value2    = integrate.trapz(f2,z)\n",
    "    I_4       = -1.0/lambd * (i*u+u**2.0)*value2\n",
    "    \n",
    "    return I_1_adj + kappa*vbar*I_2 + 0.5*eta**2.0*I_3+eta*rhoxr*I_4\n",
    "\n",
    "def ChFH1HWModel(P0T,lambd,eta,tau,kappa,gamma,vbar,v0,rhoxv, rhoxr):\n",
    "    dt = 0.0001    \n",
    "    f0T = lambda t: - (np.log(P0T(t+dt))-np.log(P0T(t-dt)))/(2.0*dt)\n",
    "    r0 =f0T(0.00001)\n",
    "    C = lambda u: C_H1HW(u,tau,lambd)\n",
    "    D = lambda u: D_H1HW(u,tau,kappa,gamma,rhoxv)\n",
    "    A = lambda u: A_H1HW(u,tau,P0T,lambd,eta,kappa,gamma,vbar,v0,rhoxv,rhoxr)\n",
    "    cf = lambda u: np.exp(A(u) + C(u)*r0 + D(u)*v0 )\n",
    "    return cf\n",
    "\n",
    "\n",
    "def calibrationH1HW_Global(CP,K,marketPrice,S0,T,P0T):\n",
    "    K = np.array(K)\n",
    "    marketPrice = np.array(marketPrice)\n",
    "    # x = [gamma,vBar,Rxv,v0, eta, kappa, lambda, rxr]\n",
    "    f_obj = lambda x: TargetValH1HW(CP,x[5],x[0],x[1],x[7],x[2],x[3],x[4],x[6],K,marketPrice,S0,T,P0T)\n",
    "       \n",
    "    # Random initial guess\n",
    "\n",
    "    #[gamma,vBar,Rxv,v0]\n",
    "    initial = np.array([1.0, 0.05,-0.7, 0.05, 0.01, 0.3, 0.04, 0.4])\n",
    "    \n",
    "    # The bounds\n",
    "\n",
    "    xmin = [0.1, 0.001,-0.99, 0.001, 0.001, 0.001, 0.001, -1]\n",
    "    xmax = [0.8,  0.8,  -0.3, 0.8, 0.7, 0.7, 0.7, 1]    \n",
    "    \n",
    "    # Rewrite the bounds as required by L-BFGS-B\n",
    "\n",
    "    bounds = [(low, high) for low, high in zip(xmin, xmax)]\n",
    "\n",
    "    # Use L-BFGS-B method because the problem is smooth and bounded\n",
    "\n",
    "#     minimizer_kwargs = dict(method=\"L-BFGS-B\", bounds=bounds)\n",
    "\n",
    "#     # Global search\n",
    "\n",
    "#     pars = optimize.basinhopping(f_obj, initial,niter=1, minimizer_kwargs=minimizer_kwargs)\n",
    "    \n",
    "#     print(pars)\n",
    "    \n",
    "    # Use global parameters in the local search\n",
    "\n",
    "#     gamma_est = pars.x[0]\n",
    "#     vBar_est = pars.x[1]\n",
    "#     Rxv_est = pars.x[2]\n",
    "#     v0_est = pars.x[3]\n",
    "#     initial = [gamma_est,vBar_est,Rxv_est,v0_est]    \n",
    "#     pars  = minimize(f_obj,initial,method='nelder-mead', options = \\\n",
    "#                      {'xtol': 1e-05, 'disp': False,'maxiter':200})\n",
    "    pars  = minimize(f_obj,initial,bounds=bounds, tol=1e-05)\n",
    "    \n",
    "    gamma_est = pars.x[0]\n",
    "    vBar_est = pars.x[1]\n",
    "    Rxv_est = pars.x[2]\n",
    "    v0_est = pars.x[3]\n",
    "    eta = pars.x[4]\n",
    "    kappa = pars.x[5]\n",
    "    lambd = pars.x[6]\n",
    "    rxr = pars.x[7]\n",
    "    parmCalibr =  {\"gamma\":gamma_est,\"vBar\":vBar_est,\"Rxv\":Rxv_est,\\\n",
    "                   \"v0\":v0_est, \"eta\": eta, \"kappa\": kappa, \"lambda\": lambd, \"rxr\": rxr,'ErrorFinal':pars.fun}\n",
    "    return parmCalibr\n",
    "\n",
    "def TargetValH1HW(CP,kappa,gamma,vBar,Rxr,Rxv,v0,eta,lambd,K,marketPrice,S0,T,P0T):\n",
    "    if K is not np.array:\n",
    "        K = np.array(K).reshape([len(K),1])\n",
    "    \n",
    "    # Settings for the COS method\n",
    "\n",
    "    N = 500\n",
    "    L = 10 \n",
    "    cf = ChFH1HWModel(P0T,lambd,eta,T,kappa,gamma,vBar,v0, Rxv, Rxr)\n",
    "    valCOS = CallPutOptionPriceCOSMthd_StochIR(cf, CP, S0, T, K, N, L,P0T(T))\n",
    "    \n",
    "    # Error is defined as the difference between the market and the model\n",
    "\n",
    "    errorVector = np.mean((valCOS.T[0] - marketPrice)**2)\n",
    "    \n",
    "    # Target value is a norm of the error vector\n",
    "\n",
    "#     value       = np.linalg.norm(errorVector)   \n",
    "    value = errorVector\n",
    "    return value\n",
    "\n",
    "def mainCalculation():\n",
    "    CP  = OptionType.PUT\n",
    "        \n",
    "    # HW model parameter settings\n",
    "\n",
    "#     lambd = 0.01\n",
    "#     eta   = 0.01\n",
    "    S0    = 174.62    \n",
    "\n",
    "#     kappa =  0.5\n",
    "#     Rxr   =  0.3\n",
    "      \n",
    "    # We define a ZCB curve (obtained from the market)\n",
    "    # This curve is based on the estimation to real market data\n",
    "\n",
    "    P0T = lambda T: np.exp(0.0012*T+0.0007) \n",
    "       \n",
    "    # Settings for the COS method\n",
    "\n",
    "    N = 500\n",
    "    L = 10 \n",
    "    \n",
    "    ################## Here we define market call option prices #################\n",
    "    \n",
    "    T = maturity\n",
    "#     referenceIV  = np.array([57.61, 22.95, 15.9])/100.0\n",
    "    \n",
    "    #T = 1.0\n",
    "    #referenceIV = np.array([48.53, 24.49, 19.23])/100.0\n",
    "        \n",
    "    #T = 10.0\n",
    "    #referenceIV = np.array([36.76, 29.18, 27.66])/100.0\n",
    "    \n",
    "    # Strike range\n",
    "#     P0T = lambda T: np.exp(0.005*T)\n",
    "    \n",
    "    \n",
    "\n",
    "#     frwd = S0/P0T(T)\n",
    "#     K = [0.4*frwd, frwd, 1.2*frwd]\n",
    "    K = apple_strikes\n",
    "\n",
    "#     referenceIV = np.array([48.53, 24.49, 19.23])/100.0\n",
    "        \n",
    "#     K = [0.4*frwd, frwd, 1.2*frwd]\n",
    "#     K = np.array(K).reshape([len(K),1])\n",
    "    \n",
    "    \n",
    "#     referenceIV = np.array(referenceIV).reshape([len(referenceIV),1])\n",
    "#     referencePrice = P0T(T)* BS_Call_Put_Option_Price(CP,S0 / P0T(T),K,referenceIV,T,0.0)\n",
    "    referencePrice = apple_market_price\n",
    "    calibratedParms =  calibrationH1HW_Global(CP,K,referencePrice,S0,T,P0T)\n",
    "    \n",
    "    gamma = calibratedParms.get('gamma')\n",
    "    vBar  = calibratedParms.get('vBar')\n",
    "    Rxv   = calibratedParms.get('Rxv')\n",
    "    v0    = calibratedParms.get('v0')\n",
    "    eta = calibratedParms.get('eta')\n",
    "    kappa = calibratedParms.get('kappa')\n",
    "    lambd = calibratedParms.get('lambda')\n",
    "    Rxr = calibratedParms.get('rxr')\n",
    "    errorH1HW = calibratedParms.get('ErrorFinal')   \n",
    "    \n",
    "    cf2 = ChFH1HWModel(P0T,lambd,eta,T,kappa,gamma,vBar,v0,Rxv, Rxr)\n",
    "    valCOS_H1HW = CallPutOptionPriceCOSMthd_StochIR(cf2, CP, S0, T, K, N, L,P0T(T))\n",
    "    \n",
    "#     print(np.mean((referencePrice - valCOS_H1HW.T[0])**2))\n",
    "    \n",
    "\n",
    "#     print(\"Optimal parameters for H1-HW are: gamma = {0:.3f}, vBar = {1:.3f}, Rxv = {2:.3f}, v0 = {3:.3f}\".format(gamma,vBar,Rxv,v0))\n",
    "    print('Final error for H1HW = {0}'.format(round(errorH1HW, 9)))\n",
    "\n",
    "    plt.subplots(figsize=(10, 5), dpi=100)\n",
    "\n",
    "    plt.plot(K, apple_market_price, label='Initial Prices')\n",
    "    plt.plot(K, valCOS_H1HW, '--', color='red', label='Stoch IR')\n",
    "\n",
    "    plt.title('Option Pricing for AAPL with Heston COS', fontsize=16)\n",
    "    plt.xlabel('Strikes', fontsize=14)\n",
    "    plt.ylabel('Values', fontsize=14)\n",
    "    plt.legend()\n",
    "    plt.show()\n",
    "    \n",
    "mainCalculation()"
   ]
  },
  {
   "cell_type": "code",
   "execution_count": 41,
   "id": "a7d3ce7f-b358-4287-9f5f-677d345be83a",
   "metadata": {},
   "outputs": [],
   "source": [
    "numberPaths = 200\n",
    "N = 500\n",
    "\n",
    "time, S, M = mcm.bates_SC_SIR_AES(numberPaths, N, s0, v0, T, k, gamma, vb, kr, gammar, mur, krho, murho, sigmarho, rho4, rho5,\n",
    "                    xip, muJ, sigmaJ, r0, rho0)"
   ]
  },
  {
   "cell_type": "code",
   "execution_count": 42,
   "id": "3c03dfa6-4b04-445e-b5ac-6219fd795dc9",
   "metadata": {},
   "outputs": [],
   "source": [
    "option_bates_stoch_AES = mcm.optionPriceMC_Stoch(type_option, S[:, -1], K, T, M[:, -1])"
   ]
  },
  {
   "cell_type": "code",
   "execution_count": 43,
   "id": "4b375a92-3d10-445b-a97d-669905d29722",
   "metadata": {},
   "outputs": [
    {
     "data": {
      "image/png": "[encoded data removed]",
      "text/plain": [
       "<Figure size 1000x500 with 1 Axes>"
      ]
     },
     "metadata": {},
     "output_type": "display_data"
    }
   ],
   "source": [
    "plt.subplots(figsize=(10, 5), dpi=100)\n",
    "\n",
    "plt.plot(apple_strikes, apple_market_price, label='Initial Prices')\n",
    "plt.plot(apple_strikes, valCOS, color='green', label='COS Method')\n",
    "plt.plot(apple_strikes, valCOS, '.',color='red', label='AES')\n",
    "        \n",
    "plt.title('Option Pricing Bates SC and SIR', fontsize=16)\n",
    "plt.xlabel('Strikes', fontsize=14)\n",
    "plt.ylabel('Values', fontsize=14)\n",
    "plt.legend()\n",
    "plt.show()"
   ]
  },
  {
   "cell_type": "code",
   "execution_count": null,
   "id": "ca102641-5195-4f77-b798-ed2ff78fe6ee",
   "metadata": {},
   "outputs": [],
   "source": []
  },
  {
   "cell_type": "code",
   "execution_count": null,
   "id": "d0e2017c-9707-41bb-95f2-2d40ee1a8b58",
   "metadata": {},
   "outputs": [],
   "source": []
  },
  {
   "cell_type": "code",
   "execution_count": 83,
   "id": "ad1b491b-4e9d-4fac-9019-5ed4883751cf",
   "metadata": {},
   "outputs": [],
   "source": [
    "test = np.array([[1.3, -2, 0.5, -0.4, 1.0001], [1.2, -0.8, 0.6, -0.4, -1.002]])\n",
    "if (test[:, -1] < 1).any():\n",
    "    test[np.where(test[:, -1] < 1)[0], -1] = 0.999"
   ]
  },
  {
   "cell_type": "code",
   "execution_count": 86,
   "id": "5106dd94-097e-4956-b9bb-9b7eac9cee53",
   "metadata": {},
   "outputs": [
    {
     "data": {
      "text/plain": [
       "array([1.0001, 0.999 ])"
      ]
     },
     "execution_count": 86,
     "metadata": {},
     "output_type": "execute_result"
    }
   ],
   "source": [
    "test[:, -1]"
   ]
  },
  {
   "cell_type": "code",
   "execution_count": 67,
   "id": "10eb1498-1320-4d77-8f6f-165a42adcf56",
   "metadata": {},
   "outputs": [
    {
     "data": {
      "text/plain": [
       "True"
      ]
     },
     "execution_count": 67,
     "metadata": {},
     "output_type": "execute_result"
    }
   ],
   "source": [
    "(test[:, 0] > 1).any()"
   ]
  },
  {
   "cell_type": "code",
   "execution_count": null,
   "id": "b338a3f0-5f5f-4e6d-91d2-0793dea7d35c",
   "metadata": {},
   "outputs": [],
   "source": []
  },
  {
   "cell_type": "code",
   "execution_count": 55,
   "id": "804ca85e-3a7b-4b42-9073-e743f114f28b",
   "metadata": {},
   "outputs": [],
   "source": [
    "import numpy as np"
   ]
  },
  {
   "cell_type": "code",
   "execution_count": 56,
   "id": "edc5fb9e-c4c1-461c-8744-5ae3b389560f",
   "metadata": {},
   "outputs": [
    {
     "data": {
      "text/plain": [
       "-0.0011999999998231958"
      ]
     },
     "execution_count": 56,
     "metadata": {},
     "output_type": "execute_result"
    }
   ],
   "source": [
    "dt = 0.0001 \n",
    "P0T = lambda T: np.exp(0.0012*T+0.0007) \n",
    "f0T = lambda t: - (np.log(P0T(t+dt))-np.log(P0T(t-dt)))/(2.0*dt)\n",
    "f0T(0.00001)"
   ]
  },
  {
   "cell_type": "code",
   "execution_count": 57,
   "id": "786c528e-913f-432e-84aa-a68e209560f4",
   "metadata": {},
   "outputs": [],
   "source": [
    "# v0, kappa, gamma, vbar, rho0, kp, mup, sigmap, rho2\n",
    "numberPaths = 10000\n",
    "rho1 = 0.4\n",
    "\n",
    "def error_heston_stoch_corr_AES(x, prices, K, s0):\n",
    "    paths = mcm.heston_stoch_corr_AES(numberPaths, N, s0, x[0], T, x[1], x[2], x[3], x[4], r, x[5], x[6], x[7], rho1, x[8])[1]\n",
    "    \n",
    "    price_calib = mcm.optionPriceMCGeneral(type_option, paths[:, -1], K, T, r)\n",
    "    \n",
    "    return np.mean((price_calib - prices)**2)"
   ]
  },
  {
   "cell_type": "code",
   "execution_count": 59,
   "id": "6c5c02cc-ef44-4282-b062-2a06ff290eac",
   "metadata": {},
   "outputs": [
    {
     "data": {
      "text/plain": [
       "      fun: 1.4402502836092623\n",
       " hess_inv: <9x9 LbfgsInvHessProduct with dtype=float64>\n",
       "      jac: array([-1199933.84629832,  5344366.66382795, 11099879.7464901 ,\n",
       "       -2786459.08080546,  4441046.53819717,  6715720.77734504,\n",
       "        4627147.89128079,  2326328.30414545,  2323591.24688854])\n",
       "  message: 'CONVERGENCE: REL_REDUCTION_OF_F_<=_FACTR*EPSMCH'\n",
       "     nfev: 230\n",
       "      nit: 3\n",
       "     njev: 23\n",
       "   status: 0\n",
       "  success: True\n",
       "        x: array([ 0.04000017,  2.00000494,  0.20000016,  0.02000044, -0.7999989 ,\n",
       "        4.00000067,  0.5       ,  0.04      , -0.09999941])"
      ]
     },
     "execution_count": 59,
     "metadata": {},
     "output_type": "execute_result"
    }
   ],
   "source": [
    "init_vals = [0.04, 2, 0.2, 0.02, -0.8, 4, 0.2, 0.4, -0.1]\n",
    "bounds = ((0.0001, 0.7), (0.01, 10), (0.001, 0.5), (0.0001, 0.7), (-0.9, 0.9), (0.5, 5), (0.5, 1), (0.01, 0.04), (-0.9, 0.9))\n",
    "\n",
    "params_heston_AES = minimize(error_heston_stoch_corr_AES, x0=init_vals, args=(apple_market_price, apple_strikes, s0),\n",
    "                             bounds=bounds, tol=1e-4, options={\"maxiter\": 1000})\n",
    "params_heston_AES"
   ]
  },
  {
   "cell_type": "code",
   "execution_count": 60,
   "id": "b60bb847-5d24-4f7c-968d-07c47d57138a",
   "metadata": {},
   "outputs": [],
   "source": [
    "v0, kappa, gamma, vbar, rho0, kp, mup, sigmap, rho2 = params_heston_AES.x"
   ]
  },
  {
   "cell_type": "code",
   "execution_count": 62,
   "id": "53ac3ee7-8266-4649-8228-c2675ef62d9e",
   "metadata": {},
   "outputs": [],
   "source": [
    "paths_heston_AES = mcm.heston_stoch_corr_AES(numberPaths, N, s0, v0, T, kappa, gamma, vbar, rho0, r, kp, mup, sigmap, rho1, rho2)[1]"
   ]
  },
  {
   "cell_type": "code",
   "execution_count": 63,
   "id": "db5506cc-32e7-4fdc-8b7b-70b4d038d404",
   "metadata": {},
   "outputs": [],
   "source": [
    "option_heston_AES = mcm.optionPriceMCGeneral(type_option, paths_heston_AES[:,-1], apple_strikes, T, r)"
   ]
  },
  {
   "cell_type": "code",
   "execution_count": 64,
   "id": "8bb8f18c-2709-4e80-afcf-c95e460c86bf",
   "metadata": {},
   "outputs": [
    {
     "data": {
      "image/png": "[encoded data removed]",
      "text/plain": [
       "<Figure size 1000x500 with 1 Axes>"
      ]
     },
     "metadata": {},
     "output_type": "display_data"
    }
   ],
   "source": [
    "plt.subplots(figsize=(10, 5), dpi=100)\n",
    "\n",
    "plt.plot(apple_strikes, apple_market_price, label='Initial Prices')\n",
    "plt.plot(apple_strikes, option_heston_AES, color='green', label='Heston AES')\n",
    "        \n",
    "plt.title('Option Pricing for AAPL with Heston AES', fontsize=16)\n",
    "plt.xlabel('Strikes', fontsize=14)\n",
    "plt.ylabel('Values', fontsize=14)\n",
    "plt.legend()\n",
    "plt.show()"
   ]
  },
  {
   "cell_type": "code",
   "execution_count": 65,
   "id": "72107e31-da47-4f61-8518-f29b0abad49c",
   "metadata": {},
   "outputs": [
    {
     "data": {
      "text/plain": [
       "1.2001042803062"
      ]
     },
     "execution_count": 65,
     "metadata": {},
     "output_type": "execute_result"
    }
   ],
   "source": [
    "np.sqrt(params_heston_AES.fun)"
   ]
  },
  {
   "cell_type": "code",
   "execution_count": null,
   "id": "bd2a5f49-6d31-43e9-bb5d-d34702c00a69",
   "metadata": {},
   "outputs": [],
   "source": []
  },
  {
   "cell_type": "code",
   "execution_count": 409,
   "id": "21a510ca-fe78-4175-99d0-61d4edb8acb8",
   "metadata": {},
   "outputs": [],
   "source": [
    "tsla = ops.get_calls(\"TSLA\", 'April 1, 2022')"
   ]
  },
  {
   "cell_type": "code",
   "execution_count": 410,
   "id": "daeaf195-fa82-4736-83c9-e289d07ffdad",
   "metadata": {},
   "outputs": [],
   "source": [
    "# tsla.to_csv('tsla_option_call_april_01_2022.csv')"
   ]
  },
  {
   "cell_type": "code",
   "execution_count": 411,
   "id": "fcbee976-f4ea-4325-a836-08b6b2d9a4e8",
   "metadata": {},
   "outputs": [],
   "source": [
    "s0_tsla = 766.37 #15.03.2022"
   ]
  },
  {
   "cell_type": "code",
   "execution_count": 412,
   "id": "4c2521e3-e0e2-46f7-a22d-099d23a11ea3",
   "metadata": {},
   "outputs": [],
   "source": [
    "tsla_strikes = tsla.loc[:, 'Strike']\n",
    "tsla_market_price = tsla.loc[:, 'Last Price']"
   ]
  },
  {
   "cell_type": "code",
   "execution_count": null,
   "id": "209de498-f24c-45a6-8509-5245ae8d8bf2",
   "metadata": {},
   "outputs": [],
   "source": []
  }
 ],
 "metadata": {
  "kernelspec": {
   "display_name": "Python 3",
   "language": "python",
   "name": "python3"
  },
  "language_info": {
   "codemirror_mode": {
    "name": "ipython",
    "version": 3
   },
   "file_extension": ".py",
   "mimetype": "text/x-python",
   "name": "python",
   "nbconvert_exporter": "python",
   "pygments_lexer": "ipython3",
   "version": "3.8.8"
  }
 },
 "nbformat": 4,
 "nbformat_minor": 5
}
