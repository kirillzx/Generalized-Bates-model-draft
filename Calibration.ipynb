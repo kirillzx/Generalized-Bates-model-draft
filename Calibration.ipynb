{
 "cells": [
  {
   "cell_type": "markdown",
   "id": "4c33848e-f5a3-46f8-9645-fc1b3ba5709e",
   "metadata": {},
   "source": [
    "# Models Calibration\n",
    "## Kirill Zakharov\n",
    "2022"
   ]
  },
  {
   "cell_type": "code",
   "execution_count": 3,
   "id": "6c88f00f-8711-4832-bcae-97e58aa2db52",
   "metadata": {},
   "outputs": [],
   "source": [
    "import numpy as np\n",
    "import pandas as pd\n",
    "import matplotlib.pyplot as plt\n",
    "import seaborn as sns\n",
    "import scipy.stats as stats\n",
    "from scipy.integrate import quad\n",
    "from scipy.fft import fft, ifft\n",
    "from scipy.interpolate import interp1d\n",
    "from functools import partial\n",
    "from scipy.optimize import minimize, fsolve\n",
    "import tqdm\n",
    "import yfinance as yf\n",
    "\n",
    "%matplotlib inline\n",
    "\n",
    "plt.style.use('ggplot')"
   ]
  },
  {
   "cell_type": "code",
   "execution_count": 4,
   "id": "b66371bf-75eb-45b1-b208-36709988981a",
   "metadata": {},
   "outputs": [],
   "source": [
    "aapl = yf.Ticker('AAPL')"
   ]
  },
  {
   "cell_type": "code",
   "execution_count": 5,
   "id": "9f185f51-73e4-498c-83be-cd34a47815fa",
   "metadata": {},
   "outputs": [],
   "source": [
    "apple_option = aapl.option_chain('2022-03-25').calls"
   ]
  },
  {
   "cell_type": "code",
   "execution_count": 6,
   "id": "371c77bc-4447-46a8-a8f7-4756e4044ca8",
   "metadata": {},
   "outputs": [],
   "source": [
    "# apple_option.to_csv('Apple_Option.csv')"
   ]
  },
  {
   "cell_type": "code",
   "execution_count": 7,
   "id": "38c0f6e0-2e7c-4417-af86-78808e9141c0",
   "metadata": {},
   "outputs": [],
   "source": [
    "apple_strikes = apple_option.strike\n",
    "apple_prices = apple_option.lastPrice"
   ]
  },
  {
   "cell_type": "code",
   "execution_count": 8,
   "id": "a5b1d761-3326-4b19-a075-3ce828ff8e9d",
   "metadata": {},
   "outputs": [],
   "source": [
    "def CallPutOptionPriceCOS(cf, CP, s0, r, tau, K, N, L):\n",
    "    # L    - size of truncation domain (typ.:L=8 or L=10)  \n",
    "        \n",
    "    # reshape K to a column vector\n",
    "    K = np.array(K).reshape([len(K),1])\n",
    "    \n",
    "    i = complex(0.0,1.0) \n",
    "    x0 = np.log(s0 / K)   \n",
    "    \n",
    "    # truncation domain\n",
    "    a = 0.0 - L * np.sqrt(tau)\n",
    "    b = 0.0 + L * np.sqrt(tau)\n",
    "    \n",
    "    k = np.linspace(0,N-1,N).reshape([N,1])  \n",
    "    u = k * np.pi / (b - a);  \n",
    "  \n",
    "    H_k = Hk_Coefficients(CP,a,b,k)\n",
    "       \n",
    "    mat = np.exp(i * np.outer((x0 - a) , u))\n",
    "\n",
    "    temp = cf(u) * H_k \n",
    "    temp[0] = 0.5 * temp[0]    \n",
    "    \n",
    "    value = np.exp(-r * tau) * K * np.real(mat.dot(temp))\n",
    "         \n",
    "    return value\n",
    "\n",
    "def Hk_Coefficients(CP, a, b, k):\n",
    "    if str(CP).lower() == \"c\" or str(CP).lower()==\"1\":                  \n",
    "        c = 0.0\n",
    "        d = b\n",
    "        coef = Chi_Psi(a, b, c, d, k)\n",
    "        Chi_k = coef[\"chi\"]\n",
    "        Psi_k = coef[\"psi\"]\n",
    "        if a < b and b < 0.0:\n",
    "            H_k = np.zeros([len(k),1])\n",
    "        else:\n",
    "            H_k = 2.0 / (b - a) * (Chi_k - Psi_k)  \n",
    "        \n",
    "    elif str(CP).lower()==\"p\" or str(CP).lower()==\"-1\":\n",
    "        c = a\n",
    "        d = 0.0\n",
    "        coef = Chi_Psi(a, b, c, d, k)\n",
    "        Chi_k = coef[\"chi\"]\n",
    "        Psi_k = coef[\"psi\"]\n",
    "        H_k = 2.0 / (b - a) * (- Chi_k + Psi_k)               \n",
    "    \n",
    "    return H_k\n",
    "\n",
    "def Chi_Psi(a, b, c, d, k):\n",
    "    psi = np.sin(k * np.pi * (d - a) / (b - a)) - np.sin(k * np.pi * (c - a)/(b - a))\n",
    "    psi[1:] = psi[1:] * (b - a) / (k[1:] * np.pi)\n",
    "    psi[0] = d - c\n",
    "    \n",
    "    chi = 1.0 / (1.0 + np.power((k * np.pi / (b - a)) , 2.0)) \n",
    "    expr1 = np.cos(k * np.pi * (d - a)/(b - a)) * np.exp(d)  - np.cos(k * np.pi \n",
    "                  * (c - a) / (b - a)) * np.exp(c)\n",
    "    expr2 = k * np.pi / (b - a) * np.sin(k * np.pi * \n",
    "                        (d - a) / (b - a))   - k * np.pi / (b - a) * np.sin(k \n",
    "                        * np.pi * (c - a) / (b - a)) * np.exp(c)\n",
    "    chi = chi * (expr1 + expr2)\n",
    "    \n",
    "    value = {\"chi\":chi,\"psi\":psi }\n",
    "    return value"
   ]
  },
  {
   "cell_type": "code",
   "execution_count": 21,
   "id": "7879d9ee-7988-4b92-aa04-cee6b9a45e44",
   "metadata": {},
   "outputs": [],
   "source": [
    "CP = 'c'\n",
    "s0 = 164.7\n",
    "r = 0.05\n",
    "# K = [80, 90, 110, 130, 135, 140]\n",
    "N = 2**8\n",
    "L = 10\n",
    "tau = 1\n",
    "sigma = 0.2\n",
    "\n",
    "# cf = lambda u: np.exp((r - 0.5 * sigma**2)* 1j * u * tau - 0.5 * sigma**2 * u**2 * tau)\n",
    "\n",
    "# option_price_cos = CallPutOptionPriceCOS(cf, CP, s0, r, tau, K, N, L)"
   ]
  },
  {
   "cell_type": "code",
   "execution_count": 22,
   "id": "4beb7802-6274-4afd-ab34-dc4a4aee6742",
   "metadata": {},
   "outputs": [],
   "source": [
    "prices = apple_prices\n",
    "strikes = apple_strikes"
   ]
  },
  {
   "cell_type": "code",
   "execution_count": 23,
   "id": "2786ddcd-e927-4b23-ae82-c7db3cd2e091",
   "metadata": {},
   "outputs": [],
   "source": [
    "def ChFHestonModel(r, tau, kappa, gamma, vbar, v0, rho):\n",
    "    i = complex(0.0, 1.0)\n",
    "    D1 = lambda u: np.sqrt(np.power(kappa-gamma*rho*i*u, 2)+(u**2 + i*u) * gamma**2)\n",
    "    g  = lambda u: (kappa-gamma*rho*i*u-D1(u))/(kappa-gamma*rho*i*u + D1(u))\n",
    "    C  = lambda u: (1.0-np.exp(-D1(u)*tau))/(gamma*gamma*(1.0-g(u)*np.exp(-D1(u)*tau)))\\\n",
    "        *(kappa-gamma*rho*i*u-D1(u))\n",
    "    # Note that we exclude the term -r*tau, as the discounting is performed in the COS method\n",
    "    A  = lambda u: r * i*u *tau + kappa*vbar*tau/gamma/gamma *(kappa-gamma*rho*i*u-D1(u))\\\n",
    "        - 2*kappa*vbar/gamma/gamma * np.log((1.0-g(u)*np.exp(-D1(u)*tau))/(1.0-g(u)))\n",
    "      \n",
    "    cf = lambda u: np.exp(A(u) + C(u)*v0)\n",
    "    return cf "
   ]
  },
  {
   "cell_type": "code",
   "execution_count": 58,
   "id": "a3480787-bd75-459f-81a2-f82d6c7247a2",
   "metadata": {},
   "outputs": [
    {
     "data": {
      "text/plain": [
       "      fun: 47.81647465985676\n",
       " hess_inv: <2x2 LbfgsInvHessProduct with dtype=float64>\n",
       "      jac: array([838.73472932,   2.0219801 ])\n",
       "  message: 'CONVERGENCE: REL_REDUCTION_OF_F_<=_FACTR*EPSMCH'\n",
       "     nfev: 114\n",
       "      nit: 8\n",
       "     njev: 38\n",
       "   status: 0\n",
       "  success: True\n",
       "        x: array([ 0.01      , -0.10430473])"
      ]
     },
     "execution_count": 58,
     "metadata": {},
     "output_type": "execute_result"
    }
   ],
   "source": [
    "def error_f(x, prices, strikes):\n",
    "    cf = lambda u: np.exp((x[0] - 0.5 * x[1]**2)* 1j * u * tau - 0.5 * x[1]**2 * u**2 * tau)\n",
    "    \n",
    "#     cf = ChFHestonModel(0.05, 1, x[0], x[1], x[2], 0.04, x[3])\n",
    "    \n",
    "    price_calib = CallPutOptionPriceCOS(cf, CP, s0, x[0], tau, strikes, N, L).T[0]\n",
    "    \n",
    "    return sum(abs(price_calib - prices)/prices)\n",
    "\n",
    "#r, sigma\n",
    "init_vals = [0.1, 0.4]\n",
    "bounds = ((0.01, 0.1), (-1, 1))\n",
    "\n",
    "#r, kappa, gamma, vbar, rho\n",
    "# init_vals = [0.05, 0.4, 0.8, 0.04, -0.8]\n",
    "# bounds = ((0.01, 0.1), (1e-10, 1), (1e-10, 1), (1e-10, 1), (-1, -0.001))\n",
    "\n",
    "params_BS = minimize(error_f, x0=init_vals, args=(prices, strikes), bounds=bounds, tol=1e-10, options={\"maxiter\": 10000})\n",
    "params_BS"
   ]
  },
  {
   "cell_type": "code",
   "execution_count": 59,
   "id": "58c92b6a-e1be-4f72-b35e-2e3d359267ca",
   "metadata": {},
   "outputs": [],
   "source": [
    "r = params_BS.x[0]\n",
    "sigma = params_BS.x[1]"
   ]
  },
  {
   "cell_type": "code",
   "execution_count": 60,
   "id": "c29fa6cf-727c-4c59-88f9-382530f712c3",
   "metadata": {},
   "outputs": [],
   "source": [
    "cf = lambda u: np.exp((r - 0.5 * sigma**2)* 1j * u * tau - 0.5 * sigma**2 * u**2 * tau)\n",
    "\n",
    "option_price_cos = CallPutOptionPriceCOS(cf, CP, s0, r, tau, strikes, N, L)"
   ]
  },
  {
   "cell_type": "code",
   "execution_count": 61,
   "id": "a3684f39-ba62-4fbf-8a62-e23d49c47e08",
   "metadata": {},
   "outputs": [
    {
     "data": {
      "image/png": "[encoded data removed]",
      "text/plain": [
       "<Figure size 1000x500 with 1 Axes>"
      ]
     },
     "metadata": {},
     "output_type": "display_data"
    }
   ],
   "source": [
    "plt.subplots(figsize=(10, 5), dpi=100)\n",
    "plt.plot(strikes, prices, label='Initial')\n",
    "\n",
    "plt.plot(strikes, option_price_cos.T[0], '--', color='black', label='COS Method')\n",
    "        \n",
    "plt.title('Option Pricing', fontsize=16)\n",
    "plt.xlabel('Strikes', fontsize=14)\n",
    "plt.ylabel('Values', fontsize=14)\n",
    "plt.legend()\n",
    "plt.show()"
   ]
  },
  {
   "cell_type": "code",
   "execution_count": null,
   "id": "203f7d25-1bfc-45c1-82b6-c307bf6007fc",
   "metadata": {},
   "outputs": [],
   "source": []
  }
 ],
 "metadata": {
  "kernelspec": {
   "display_name": "Python 3",
   "language": "python",
   "name": "python3"
  },
  "language_info": {
   "codemirror_mode": {
    "name": "ipython",
    "version": 3
   },
   "file_extension": ".py",
   "mimetype": "text/x-python",
   "name": "python",
   "nbconvert_exporter": "python",
   "pygments_lexer": "ipython3",
   "version": "3.8.8"
  }
 },
 "nbformat": 4,
 "nbformat_minor": 5
}
